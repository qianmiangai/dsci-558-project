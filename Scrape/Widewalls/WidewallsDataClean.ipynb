{
 "cells": [
  {
   "cell_type": "code",
   "execution_count": 2,
   "metadata": {},
   "outputs": [],
   "source": [
    "import pandas as pd\n",
    "import numpy as np\n",
    "import os\n",
    "import re"
   ]
  },
  {
   "cell_type": "code",
   "execution_count": 3,
   "metadata": {},
   "outputs": [
    {
     "name": "stderr",
     "output_type": "stream",
     "text": [
      "/var/folders/2p/2p_g91q95gj9px5nbxvkbw3h0000gn/T/ipykernel_15168/1597167206.py:12: UserWarning: This pattern is interpreted as a regular expression, and has match groups. To actually get the groups, use str.extract.\n",
      "  bio_df = bio_df.loc[~bio_df.iloc[:,1].str.contains(\"(n/a)\",na=True)]\n"
     ]
    }
   ],
   "source": [
    "path = \"data/Cleaned_widewalls_names_and_full_bio_150.csv\"\n",
    "bio_df = pd.read_csv(path)\n",
    "#bio_df = bio_df.assign(cleaned_bio = lambda x: (x['full_bios']))\n",
    "bio_df = bio_df.dropna()\n",
    "bio_df = bio_df.drop(['Unnamed: 0'], axis = 1)\n",
    "#print(len(bio_df))\n",
    "bio_df['full_bios'] = bio_df['full_bios'].map(lambda bio: bio.split('Featured image: ')[0].replace(\"\\n\", \" \"))\n",
    "bio_df = bio_df.loc[~bio_df.iloc[:,1].str.contains('details will be coming',na=True)]\n",
    "bio_df = bio_df.loc[~bio_df.iloc[:,1].str.contains(\"details will be forthcoming\",na=True)]\n",
    "\n",
    "#print(len(bio_df))\n",
    "bio_df = bio_df.loc[~bio_df.iloc[:,1].str.contains(\"(n/a)\",na=True)]\n",
    "#print(len(bio_df))\n",
    "bio_df.reset_index(drop = True , inplace = True)\n",
    "bio_df['id'] = range(1, len(bio_df) + 1)"
   ]
  },
  {
   "cell_type": "code",
   "execution_count": 5,
   "metadata": {},
   "outputs": [],
   "source": [
    "clean_file_name = 'data/CleanedWidewallsData.csv'\n",
    "bio_df.to_csv(clean_file_name, index=False)"
   ]
  },
  {
   "cell_type": "code",
   "execution_count": 4,
   "metadata": {},
   "outputs": [
    {
     "data": {
      "text/html": [
       "<div>\n",
       "<style scoped>\n",
       "    .dataframe tbody tr th:only-of-type {\n",
       "        vertical-align: middle;\n",
       "    }\n",
       "\n",
       "    .dataframe tbody tr th {\n",
       "        vertical-align: top;\n",
       "    }\n",
       "\n",
       "    .dataframe thead th {\n",
       "        text-align: right;\n",
       "    }\n",
       "</style>\n",
       "<table border=\"1\" class=\"dataframe\">\n",
       "  <thead>\n",
       "    <tr style=\"text-align: right;\">\n",
       "      <th></th>\n",
       "      <th>artist_names</th>\n",
       "      <th>full_bios</th>\n",
       "      <th>id</th>\n",
       "    </tr>\n",
       "  </thead>\n",
       "  <tbody>\n",
       "    <tr>\n",
       "      <th>0</th>\n",
       "      <td>Joan Miro</td>\n",
       "      <td>The mind is a fascinating thing, and there’s n...</td>\n",
       "      <td>1</td>\n",
       "    </tr>\n",
       "    <tr>\n",
       "      <th>1</th>\n",
       "      <td>David Shrigley</td>\n",
       "      <td>David Shrigley is a Glasgow-based British arti...</td>\n",
       "      <td>2</td>\n",
       "    </tr>\n",
       "    <tr>\n",
       "      <th>2</th>\n",
       "      <td>Kyriakos Kaziras</td>\n",
       "      <td>Heavily influenced by painting and considering...</td>\n",
       "      <td>3</td>\n",
       "    </tr>\n",
       "    <tr>\n",
       "      <th>3</th>\n",
       "      <td>Salvador Dali</td>\n",
       "      <td>One of the most original, innovative, and famo...</td>\n",
       "      <td>4</td>\n",
       "    </tr>\n",
       "    <tr>\n",
       "      <th>4</th>\n",
       "      <td>David Yarrow</td>\n",
       "      <td>An artist followed by an amazing reputation fo...</td>\n",
       "      <td>5</td>\n",
       "    </tr>\n",
       "    <tr>\n",
       "      <th>...</th>\n",
       "      <td>...</td>\n",
       "      <td>...</td>\n",
       "      <td>...</td>\n",
       "    </tr>\n",
       "    <tr>\n",
       "      <th>2529</th>\n",
       "      <td>Tadahiko Ikegaki</td>\n",
       "      <td>Tadahiko Ikegaki is a Japanese contemporary ar...</td>\n",
       "      <td>2530</td>\n",
       "    </tr>\n",
       "    <tr>\n",
       "      <th>2530</th>\n",
       "      <td>Charles Laib Bitton</td>\n",
       "      <td>Charles Laib Bitton is a Belgian contemporary ...</td>\n",
       "      <td>2531</td>\n",
       "    </tr>\n",
       "    <tr>\n",
       "      <th>2531</th>\n",
       "      <td>Derrick Adams</td>\n",
       "      <td>Born in Baltimore, Derrick Adams is an America...</td>\n",
       "      <td>2532</td>\n",
       "    </tr>\n",
       "    <tr>\n",
       "      <th>2532</th>\n",
       "      <td>Alice Suret-Canale</td>\n",
       "      <td>Alice Suret-Canale is a French contemporary pa...</td>\n",
       "      <td>2533</td>\n",
       "    </tr>\n",
       "    <tr>\n",
       "      <th>2533</th>\n",
       "      <td>Tatiana Nega</td>\n",
       "      <td>Drawing since early childhood, Tatiana Nega is...</td>\n",
       "      <td>2534</td>\n",
       "    </tr>\n",
       "  </tbody>\n",
       "</table>\n",
       "<p>2534 rows × 3 columns</p>\n",
       "</div>"
      ],
      "text/plain": [
       "             artist_names                                          full_bios  \\\n",
       "0               Joan Miro  The mind is a fascinating thing, and there’s n...   \n",
       "1          David Shrigley  David Shrigley is a Glasgow-based British arti...   \n",
       "2        Kyriakos Kaziras  Heavily influenced by painting and considering...   \n",
       "3           Salvador Dali  One of the most original, innovative, and famo...   \n",
       "4            David Yarrow  An artist followed by an amazing reputation fo...   \n",
       "...                   ...                                                ...   \n",
       "2529     Tadahiko Ikegaki  Tadahiko Ikegaki is a Japanese contemporary ar...   \n",
       "2530  Charles Laib Bitton  Charles Laib Bitton is a Belgian contemporary ...   \n",
       "2531        Derrick Adams  Born in Baltimore, Derrick Adams is an America...   \n",
       "2532   Alice Suret-Canale  Alice Suret-Canale is a French contemporary pa...   \n",
       "2533         Tatiana Nega  Drawing since early childhood, Tatiana Nega is...   \n",
       "\n",
       "        id  \n",
       "0        1  \n",
       "1        2  \n",
       "2        3  \n",
       "3        4  \n",
       "4        5  \n",
       "...    ...  \n",
       "2529  2530  \n",
       "2530  2531  \n",
       "2531  2532  \n",
       "2532  2533  \n",
       "2533  2534  \n",
       "\n",
       "[2534 rows x 3 columns]"
      ]
     },
     "execution_count": 4,
     "metadata": {},
     "output_type": "execute_result"
    }
   ],
   "source": [
    "bio_df"
   ]
  },
  {
   "cell_type": "code",
   "execution_count": null,
   "metadata": {},
   "outputs": [],
   "source": []
  }
 ],
 "metadata": {
  "kernelspec": {
   "display_name": "Python 3.10.6 ('2022F')",
   "language": "python",
   "name": "python3"
  },
  "language_info": {
   "codemirror_mode": {
    "name": "ipython",
    "version": 3
   },
   "file_extension": ".py",
   "mimetype": "text/x-python",
   "name": "python",
   "nbconvert_exporter": "python",
   "pygments_lexer": "ipython3",
   "version": "3.10.6"
  },
  "orig_nbformat": 4,
  "vscode": {
   "interpreter": {
    "hash": "61f7b514d9cc7cfd4c2bdeba98a7dc160e7ee2f2c538f44fe6a7beea60d43dd4"
   }
  }
 },
 "nbformat": 4,
 "nbformat_minor": 2
}
