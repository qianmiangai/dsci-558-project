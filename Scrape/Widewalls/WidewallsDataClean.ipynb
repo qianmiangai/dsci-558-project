{
 "cells": [
  {
   "cell_type": "code",
   "execution_count": 39,
   "metadata": {},
   "outputs": [],
   "source": [
    "import pandas as pd\n",
    "import numpy as np\n",
    "import os\n",
    "import re"
   ]
  },
  {
   "cell_type": "code",
   "execution_count": 54,
   "metadata": {},
   "outputs": [
    {
     "data": {
      "text/html": [
       "<div>\n",
       "<style scoped>\n",
       "    .dataframe tbody tr th:only-of-type {\n",
       "        vertical-align: middle;\n",
       "    }\n",
       "\n",
       "    .dataframe tbody tr th {\n",
       "        vertical-align: top;\n",
       "    }\n",
       "\n",
       "    .dataframe thead th {\n",
       "        text-align: right;\n",
       "    }\n",
       "</style>\n",
       "<table border=\"1\" class=\"dataframe\">\n",
       "  <thead>\n",
       "    <tr style=\"text-align: right;\">\n",
       "      <th></th>\n",
       "      <th>Unnamed: 0</th>\n",
       "      <th>artist_names</th>\n",
       "    </tr>\n",
       "  </thead>\n",
       "  <tbody>\n",
       "    <tr>\n",
       "      <th>0</th>\n",
       "      <td>0</td>\n",
       "      <td>Javier Rey</td>\n",
       "    </tr>\n",
       "    <tr>\n",
       "      <th>1</th>\n",
       "      <td>1</td>\n",
       "      <td>Hunter &amp; Gatti</td>\n",
       "    </tr>\n",
       "    <tr>\n",
       "      <th>2</th>\n",
       "      <td>2</td>\n",
       "      <td>Markus Klinko</td>\n",
       "    </tr>\n",
       "    <tr>\n",
       "      <th>3</th>\n",
       "      <td>3</td>\n",
       "      <td>Terry O'Neill</td>\n",
       "    </tr>\n",
       "    <tr>\n",
       "      <th>4</th>\n",
       "      <td>4</td>\n",
       "      <td>Arslan Sukan</td>\n",
       "    </tr>\n",
       "    <tr>\n",
       "      <th>...</th>\n",
       "      <td>...</td>\n",
       "      <td>...</td>\n",
       "    </tr>\n",
       "    <tr>\n",
       "      <th>2695</th>\n",
       "      <td>2695</td>\n",
       "      <td>Marcel Giro</td>\n",
       "    </tr>\n",
       "    <tr>\n",
       "      <th>2696</th>\n",
       "      <td>2696</td>\n",
       "      <td>Quentin Carnaille</td>\n",
       "    </tr>\n",
       "    <tr>\n",
       "      <th>2697</th>\n",
       "      <td>2697</td>\n",
       "      <td>Dan Teis</td>\n",
       "    </tr>\n",
       "    <tr>\n",
       "      <th>2698</th>\n",
       "      <td>2698</td>\n",
       "      <td>Thomas Kinkade</td>\n",
       "    </tr>\n",
       "    <tr>\n",
       "      <th>2699</th>\n",
       "      <td>2699</td>\n",
       "      <td>Astolfo Funes</td>\n",
       "    </tr>\n",
       "  </tbody>\n",
       "</table>\n",
       "<p>2700 rows × 2 columns</p>\n",
       "</div>"
      ],
      "text/plain": [
       "      Unnamed: 0       artist_names\n",
       "0              0         Javier Rey\n",
       "1              1     Hunter & Gatti\n",
       "2              2      Markus Klinko\n",
       "3              3      Terry O'Neill\n",
       "4              4       Arslan Sukan\n",
       "...          ...                ...\n",
       "2695        2695        Marcel Giro\n",
       "2696        2696  Quentin Carnaille\n",
       "2697        2697           Dan Teis\n",
       "2698        2698     Thomas Kinkade\n",
       "2699        2699      Astolfo Funes\n",
       "\n",
       "[2700 rows x 2 columns]"
      ]
     },
     "execution_count": 54,
     "metadata": {},
     "output_type": "execute_result"
    }
   ],
   "source": [
    "#get data\n",
    "cur_path = os.getcwd()\n",
    "result_path = 'WidewallsData'\n",
    "bio_file = 'widewalls_bios.csv'\n",
    "name_file = 'widewalls_names.csv'\n",
    "bio_path = os.path.join(cur_path,result_path,bio_file)\n",
    "name_path = os.path.join(cur_path,result_path,name_file)\n",
    "bio_df = pd.read_csv(bio_path)\n",
    "name_df = pd.read_csv(name_path)\n",
    "# drop all incomplete \n",
    "#df = df.dropna(axis=0)\n",
    "#df = df.reset_index(drop=True)\n",
    "#df.tail()\n",
    "name_df"
   ]
  },
  {
   "cell_type": "code",
   "execution_count": 68,
   "metadata": {},
   "outputs": [
    {
     "data": {
      "text/plain": [
       "0       Columbian photographer Javier Ray creates work...\n",
       "1       Hunter & Gatti is a creative duo consisting of...\n",
       "2       Markus Klinko is an award-winning celebrity ph...\n",
       "3       Terry O'Neill was an English photographer. He ...\n",
       "4       Trained in interior architecture and photograp...\n",
       "                              ...                        \n",
       "2695    Marcel Giró was a Spanish-born photographer an...\n",
       "2696    Quentin Carnaille is a French contemporary art...\n",
       "2697    Dan Teis was an American arts administrator, e...\n",
       "2698    Thomas Kinkade was a well-known American artis...\n",
       "2699    Astolfo Funes is a Venezuelan contemporary art...\n",
       "Name: (artist_bio,), Length: 2700, dtype: object"
      ]
     },
     "execution_count": 68,
     "metadata": {},
     "output_type": "execute_result"
    }
   ],
   "source": [
    "#merge name and bio\n",
    "new_df = name_df.set_index('Unnamed: 0').join(bio_df.set_index('Unnamed: 0'))\n",
    "new_df = name_df.merge(bio_df, on='Unnamed: 0', how='inner')\n",
    "#new_df = new_df.iloc[:,1:]\n",
    "new_df.columns = [['id','artist_name', 'artist_bio']]"
   ]
  },
  {
   "cell_type": "code",
   "execution_count": 69,
   "metadata": {},
   "outputs": [
    {
     "data": {
      "text/plain": [
       "2591"
      ]
     },
     "execution_count": 69,
     "metadata": {},
     "output_type": "execute_result"
    }
   ],
   "source": [
    "result = new_df.loc[~new_df.iloc[:,2].str.contains('details will be forthcoming',na=True)]\n",
    "len(result)"
   ]
  },
  {
   "cell_type": "code",
   "execution_count": 72,
   "metadata": {},
   "outputs": [],
   "source": [
    "clean_file_name = 'CleanedWidewallsData.csv'\n",
    "filepath = os.path.join(cur_path,result_path,clean_file_name)\n",
    "result.to_csv(filepath, index=False)"
   ]
  }
 ],
 "metadata": {
  "kernelspec": {
   "display_name": "Python 3.10.6 ('2022F')",
   "language": "python",
   "name": "python3"
  },
  "language_info": {
   "codemirror_mode": {
    "name": "ipython",
    "version": 3
   },
   "file_extension": ".py",
   "mimetype": "text/x-python",
   "name": "python",
   "nbconvert_exporter": "python",
   "pygments_lexer": "ipython3",
   "version": "3.10.6"
  },
  "orig_nbformat": 4,
  "vscode": {
   "interpreter": {
    "hash": "61f7b514d9cc7cfd4c2bdeba98a7dc160e7ee2f2c538f44fe6a7beea60d43dd4"
   }
  }
 },
 "nbformat": 4,
 "nbformat_minor": 2
}
