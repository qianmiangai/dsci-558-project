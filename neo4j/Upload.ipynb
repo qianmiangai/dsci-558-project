{
 "cells": [
  {
   "cell_type": "code",
   "execution_count": 134,
   "metadata": {},
   "outputs": [],
   "source": [
    "from graphdatascience import GraphDataScience\n",
    "import pandas as pd\n",
    "from py2neo import Node, Graph, Relationship,NodeMatcher\n",
    "import math\n",
    "from neo4j import GraphDatabase"
   ]
  },
  {
   "cell_type": "code",
   "execution_count": 135,
   "metadata": {},
   "outputs": [],
   "source": [
    "df = pd.read_csv(\"../FinalDataSetCreation/FinalDataset_with_all.csv\")\n",
    "neo_df = df.drop(['url', 'artist_url', 'media_long','dimension','bid','full_bio'],axis = 1)\n",
    "neo_df.to_csv(\"neo4j_data.csv\")\n",
    "#neo_df = neo_df[:30]\n",
    "neo_df['color_group1'] = neo_df['color_group1'].astype('Int64')\n",
    "neo_df['color_group2'] = neo_df['color_group2'].astype('Int64')\n",
    "neo_df['color_group3'] = neo_df['color_group3'].astype('Int64')\n",
    "neo_df['color_group4'] = neo_df['color_group4'].astype('Int64')"
   ]
  },
  {
   "cell_type": "code",
   "execution_count": 136,
   "metadata": {},
   "outputs": [
    {
     "data": {
      "text/plain": [
       "'df = pd.read_csv(\"../5_InstagramFinder/FinalDataSet.csv\")\\nartist_df = df[[\\'gallery_name\\']]\\nlen(artist_df.drop_duplicates())\\n'"
      ]
     },
     "execution_count": 136,
     "metadata": {},
     "output_type": "execute_result"
    }
   ],
   "source": [
    "\"\"\"df = pd.read_csv(\"../5_InstagramFinder/FinalDataSet.csv\")\n",
    "artist_df = df[['gallery_name']]\n",
    "len(artist_df.drop_duplicates())\n",
    "\"\"\""
   ]
  },
  {
   "cell_type": "code",
   "execution_count": 137,
   "metadata": {},
   "outputs": [
    {
     "data": {
      "text/html": [
       "<div>\n",
       "<style scoped>\n",
       "    .dataframe tbody tr th:only-of-type {\n",
       "        vertical-align: middle;\n",
       "    }\n",
       "\n",
       "    .dataframe tbody tr th {\n",
       "        vertical-align: top;\n",
       "    }\n",
       "\n",
       "    .dataframe thead th {\n",
       "        text-align: right;\n",
       "    }\n",
       "</style>\n",
       "<table border=\"1\" class=\"dataframe\">\n",
       "  <thead>\n",
       "    <tr style=\"text-align: right;\">\n",
       "      <th></th>\n",
       "      <th>id</th>\n",
       "      <th>gallery_url</th>\n",
       "    </tr>\n",
       "  </thead>\n",
       "  <tbody>\n",
       "    <tr>\n",
       "      <th>0</th>\n",
       "      <td>painting15</td>\n",
       "      <td>https://www.artsy.net/partner/corridor-contemp...</td>\n",
       "    </tr>\n",
       "    <tr>\n",
       "      <th>1</th>\n",
       "      <td>prints369</td>\n",
       "      <td>https://www.artsy.net/partner/pinto-gallery</td>\n",
       "    </tr>\n",
       "    <tr>\n",
       "      <th>2</th>\n",
       "      <td>prints826</td>\n",
       "      <td>https://www.artsy.net/partner/modclair</td>\n",
       "    </tr>\n",
       "    <tr>\n",
       "      <th>3</th>\n",
       "      <td>photography133</td>\n",
       "      <td>https://www.artsy.net/auction/heritage-urban-a...</td>\n",
       "    </tr>\n",
       "    <tr>\n",
       "      <th>4</th>\n",
       "      <td>painting37</td>\n",
       "      <td>https://www.artsy.net/partner/maddox-gallery</td>\n",
       "    </tr>\n",
       "    <tr>\n",
       "      <th>...</th>\n",
       "      <td>...</td>\n",
       "      <td>...</td>\n",
       "    </tr>\n",
       "    <tr>\n",
       "      <th>2474</th>\n",
       "      <td>design1182</td>\n",
       "      <td>https://www.artsy.net/partner/fortes-daloia-an...</td>\n",
       "    </tr>\n",
       "    <tr>\n",
       "      <th>2475</th>\n",
       "      <td>design1269</td>\n",
       "      <td>https://www.artsy.net/partner/paradisoterrestre</td>\n",
       "    </tr>\n",
       "    <tr>\n",
       "      <th>2476</th>\n",
       "      <td>design1278</td>\n",
       "      <td>https://www.artsy.net/partner/lions-gallery</td>\n",
       "    </tr>\n",
       "    <tr>\n",
       "      <th>2477</th>\n",
       "      <td>design1440</td>\n",
       "      <td>https://www.artsy.net/partner/alpha-137-gallery</td>\n",
       "    </tr>\n",
       "    <tr>\n",
       "      <th>2478</th>\n",
       "      <td>design1453</td>\n",
       "      <td>https://www.artsy.net/partner/gokelaere-and-ro...</td>\n",
       "    </tr>\n",
       "  </tbody>\n",
       "</table>\n",
       "<p>2479 rows × 2 columns</p>\n",
       "</div>"
      ],
      "text/plain": [
       "                  id                                        gallery_url\n",
       "0         painting15  https://www.artsy.net/partner/corridor-contemp...\n",
       "1          prints369        https://www.artsy.net/partner/pinto-gallery\n",
       "2          prints826             https://www.artsy.net/partner/modclair\n",
       "3     photography133  https://www.artsy.net/auction/heritage-urban-a...\n",
       "4         painting37       https://www.artsy.net/partner/maddox-gallery\n",
       "...              ...                                                ...\n",
       "2474      design1182  https://www.artsy.net/partner/fortes-daloia-an...\n",
       "2475      design1269    https://www.artsy.net/partner/paradisoterrestre\n",
       "2476      design1278        https://www.artsy.net/partner/lions-gallery\n",
       "2477      design1440    https://www.artsy.net/partner/alpha-137-gallery\n",
       "2478      design1453  https://www.artsy.net/partner/gokelaere-and-ro...\n",
       "\n",
       "[2479 rows x 2 columns]"
      ]
     },
     "execution_count": 137,
     "metadata": {},
     "output_type": "execute_result"
    }
   ],
   "source": [
    "#gqm: for further location (location of gallery) scraping\n",
    "df[['id','gallery_url']]"
   ]
  },
  {
   "cell_type": "code",
   "execution_count": 138,
   "metadata": {},
   "outputs": [
    {
     "data": {
      "text/plain": [
       "Index(['Unnamed: 0', 'id', 'media', 'artist_name', 'work_name', 'work_year',\n",
       "       'gallery_name', 'gallery_url', 'price', 'img_url', 'artist_website',\n",
       "       'artist_ins', 'nationality', 'education', 'location', 'color1',\n",
       "       'color2', 'color3', 'color4', 'color_group1', 'color_group2',\n",
       "       'color_group3', 'color_group4', 'class', 'artist_style'],\n",
       "      dtype='object')"
      ]
     },
     "execution_count": 138,
     "metadata": {},
     "output_type": "execute_result"
    }
   ],
   "source": [
    "neo_df.columns"
   ]
  },
  {
   "cell_type": "code",
   "execution_count": 139,
   "metadata": {},
   "outputs": [
    {
     "name": "stdout",
     "output_type": "stream",
     "text": [
      "1990\n"
     ]
    }
   ],
   "source": [
    "#add color node\n",
    "color_df = neo_df[['id','color_group1','color_group2','color_group3','color_group4']]\n",
    "color_list = list(range(1000))\n",
    "color_dict = {}\n",
    "for i in range(len(color_df)):\n",
    "    if not pd.isna(list(color_df.iloc[i])[1]):\n",
    "        color_dict[list(color_df.iloc[i])[0]] = list(color_df.iloc[i])[1:]\n",
    "print(len(color_dict))\n"
   ]
  },
  {
   "cell_type": "code",
   "execution_count": 140,
   "metadata": {},
   "outputs": [
    {
     "name": "stderr",
     "output_type": "stream",
     "text": [
      "/var/folders/2p/2p_g91q95gj9px5nbxvkbw3h0000gn/T/ipykernel_29681/920841734.py:3: SettingWithCopyWarning: \n",
      "A value is trying to be set on a copy of a slice from a DataFrame\n",
      "\n",
      "See the caveats in the documentation: https://pandas.pydata.org/pandas-docs/stable/user_guide/indexing.html#returning-a-view-versus-a-copy\n",
      "  artist_df.fillna('', inplace=True)\n"
     ]
    }
   ],
   "source": [
    "#add artist node\n",
    "artist_df = neo_df[['artist_name','artist_website','artist_ins','nationality','education','location','artist_style']]\n",
    "artist_df.fillna('', inplace=True)\n",
    "artist_list = []\n",
    "for i in range(len(artist_df)):\n",
    "    artist_list.append(list(artist_df.iloc[i]))\n",
    "temp= []\n",
    "[temp.append(i) for i in artist_list if not i in temp]\n",
    "artist_list = temp\n"
   ]
  },
  {
   "cell_type": "code",
   "execution_count": 141,
   "metadata": {},
   "outputs": [],
   "source": [
    "#add work node\n",
    "work_df = neo_df[['id','media','artist_name','work_name','work_year','price']]\n",
    "work_list = []\n",
    "for i in range(len(work_df)):\n",
    "    work_list.append(list(work_df.iloc[i]))\n",
    "temp= []\n",
    "[temp.append(i) for i in work_list if not i in temp]\n",
    "work_list = temp"
   ]
  },
  {
   "cell_type": "code",
   "execution_count": 142,
   "metadata": {},
   "outputs": [],
   "source": [
    "#add gallery node\n",
    "gallery_df = neo_df[['gallery_name', \"gallery_url\",'artist_name','id']]\n",
    "gallery_list = []\n",
    "for i in range(len(gallery_df)):\n",
    "    gallery_list.append(list(gallery_df.iloc[i]))\n",
    "temp= []\n",
    "[temp.append(i) for i in gallery_list if not i in temp]\n",
    "gallery_list = temp"
   ]
  },
  {
   "cell_type": "code",
   "execution_count": 143,
   "metadata": {},
   "outputs": [],
   "source": [
    "#add stype node:\n",
    "style_df = neo_df[['id','class']]\n",
    "style_list = []\n",
    "for i in range(len(style_df)):\n",
    "    if not pd.isna(list(style_df.iloc[i])[1]):\n",
    "        style_list.append(list(style_df.iloc[i]))\n",
    "temp= []\n",
    "[temp.append(i) for i in style_list if not i in temp]\n",
    "style_list = temp\n",
    "\n"
   ]
  },
  {
   "cell_type": "code",
   "execution_count": 144,
   "metadata": {},
   "outputs": [],
   "source": [
    "# Aura queries use an encrypted connection using the \"neo4j+s\" URI scheme\n",
    "uri = \"neo4j+s://39d587d1.databases.neo4j.io\"\n",
    "user = \"neo4j\"\n",
    "password = \"SwH_uBibcZOdqS-aH2dg6n2qtfXMbfCaVozFwEoy3H4\"\n",
    "graph = Graph(uri, auth=(user, password), routing=True)"
   ]
  },
  {
   "cell_type": "code",
   "execution_count": 145,
   "metadata": {},
   "outputs": [
    {
     "name": "stdout",
     "output_type": "stream",
     "text": [
      "['Hebru Brantley', 'www.hebrubrantley.com', 'https://www.instagram.com/hebrubrantley/?hl=en', 'Japanese', 'Clark Atlanta University', 'Chicago', 'post-minimalism']\n"
     ]
    }
   ],
   "source": [
    "for i in artist_list:\n",
    "    print(i)\n",
    "    break"
   ]
  },
  {
   "cell_type": "code",
   "execution_count": 146,
   "metadata": {},
   "outputs": [],
   "source": [
    "artist_nodes = {}\n",
    "for i in artist_list:\n",
    "    name = i[0]\n",
    "    web = i[1]\n",
    "    ins = i[2]\n",
    "    nationality = i[3]\n",
    "    education = i[4]\n",
    "    location = i[5]\n",
    "    artist_nodes[name] = Node(\"Artist\", name = name)\n",
    "    if web:\n",
    "        artist_nodes[name]['website'] = web\n",
    "    if ins:\n",
    "        artist_nodes[name]['ins'] = ins\n",
    "    if nationality:\n",
    "        artist_nodes[name]['nationality'] = nationality\n",
    "    if location:\n",
    "        artist_nodes[name]['location'] = location"
   ]
  },
  {
   "cell_type": "code",
   "execution_count": 147,
   "metadata": {},
   "outputs": [],
   "source": [
    "work_nodes = {}\n",
    "artist_work_rel = {}\n",
    "for i in work_list:\n",
    "    work_id = i[0]\n",
    "    media = i[1]\n",
    "    artist = i[2]\n",
    "    name = i[3]\n",
    "    year = int(i[4])\n",
    "    price = int(i[5])\n",
    "    work_nodes[work_id] = Node(\"Artork\", id = work_id, media = media, name = name, year = year, price = price)\n",
    "    #Relationship(LillyW, \"DIRECTED\", TheMatrix)\n",
    "    artist_work_rel[artist+work_id] = Relationship(artist_nodes[artist], \"CREATED\", work_nodes[work_id])\n"
   ]
  },
  {
   "cell_type": "code",
   "execution_count": 148,
   "metadata": {},
   "outputs": [],
   "source": [
    "#tx = graph.begin()\n",
    "\n",
    "#graph.commit(tx)"
   ]
  },
  {
   "cell_type": "code",
   "execution_count": 149,
   "metadata": {},
   "outputs": [],
   "source": [
    "gallery_nodes = {}\n",
    "artist_gallery_rel = {}\n",
    "gallery_work_rel = {}\n",
    "already = set()\n",
    "for i in gallery_list:\n",
    "    gallery_name = i[0]\n",
    "    gallery_website = i[1]\n",
    "    artist = i[2]\n",
    "    work = i[3]\n",
    "    if gallery_name not in already:\n",
    "        already.add(gallery_name)\n",
    "        gallery_nodes[gallery_name] = Node(\"Gallery\", name = gallery_name, website = gallery_website)\n",
    "    #Relationship(LillyW, \"DIRECTED\", TheMatrix)\n",
    "    if artist+gallery_name not in artist_gallery_rel:\n",
    "        artist_gallery_rel[artist+gallery_name] = Relationship(artist_nodes[artist], \"HASWORK\", gallery_nodes[gallery_name])\n",
    "    gallery_work_rel[work+gallery_name] = Relationship(work_nodes[work], \"DISPLAY\", gallery_nodes[gallery_name])"
   ]
  },
  {
   "cell_type": "code",
   "execution_count": 150,
   "metadata": {},
   "outputs": [],
   "source": [
    "style_nodes = {}\n",
    "style_work_rel = {}\n",
    "\n",
    "style_types = set([x[1] for x in style_list])\n",
    "for i in style_types:\n",
    "    style_nodes[i] = Node(\"Style\", name = i)\n",
    "\n",
    "for i in style_list:\n",
    "   \n",
    "    style_name = i[1]\n",
    "    work = i[0]\n",
    "    #print(style_name, work)\n",
    "    style_work_rel[style_name+work] = Relationship(work_nodes[work], \"HASSTYLE\", style_nodes[style_name])"
   ]
  },
  {
   "cell_type": "code",
   "execution_count": 151,
   "metadata": {},
   "outputs": [],
   "source": [
    "color_nodes = {}\n",
    "work_color_rel = {}\n",
    "\n",
    "for i in color_list:\n",
    "    color_nodes[i] = Node(\"Color\", name = i)\n",
    "\n",
    "for i in color_dict.keys():\n",
    "   \n",
    "    work = i\n",
    "    colors = color_dict[work]\n",
    "    \n",
    "    for col in colors:\n",
    "        if col == -1:\n",
    "            pass\n",
    "        else:\n",
    "            work_color_rel[work+str(col)] = Relationship(work_nodes[work], \"HASCOLOR\", color_nodes[col])\n"
   ]
  },
  {
   "cell_type": "code",
   "execution_count": 152,
   "metadata": {},
   "outputs": [],
   "source": [
    "same_gallery_rel = []\n",
    "\n",
    "gallery_artist = {}\n",
    "for i in gallery_list:\n",
    "    gallery_name = i[0]\n",
    "    artist = i[2]\n",
    "    if gallery_name in gallery_artist:\n",
    "        gallery_artist[gallery_name].append(artist_nodes[artist])\n",
    "    else:\n",
    "        gallery_artist[gallery_name] = [artist_nodes[artist]]\n",
    "\n",
    "for test_list in gallery_artist.values():\n",
    "    temp = [[a, b] for idx, a in enumerate(test_list) for b in test_list[idx + 1:]]\n",
    "    for [a,b] in temp:\n",
    "        same_gallery_rel.append(Relationship(a, \"SAMEGALLERY\", b))\n"
   ]
  },
  {
   "cell_type": "code",
   "execution_count": 153,
   "metadata": {},
   "outputs": [
    {
     "data": {
      "text/plain": [
       "['Hebru Brantley',\n",
       " 'www.hebrubrantley.com',\n",
       " 'https://www.instagram.com/hebrubrantley/?hl=en',\n",
       " 'Japanese',\n",
       " 'Clark Atlanta University',\n",
       " 'Chicago',\n",
       " 'post-minimalism']"
      ]
     },
     "execution_count": 153,
     "metadata": {},
     "output_type": "execute_result"
    }
   ],
   "source": [
    "artist_list[0]"
   ]
  },
  {
   "cell_type": "code",
   "execution_count": 154,
   "metadata": {},
   "outputs": [],
   "source": [
    "artist_list[0]\n",
    "artist_style_rel = []\n",
    "for i in artist_list:\n",
    "    artist = i[0]\n",
    "    style = i[-1]\n",
    "    if style != 'no distinct style':\n",
    "        artist_style_rel.append(Relationship(artist_nodes[artist],\"HASSTYLE\",style_nodes[style]))\n"
   ]
  },
  {
   "cell_type": "code",
   "execution_count": 155,
   "metadata": {},
   "outputs": [],
   "source": [
    "tx = graph.begin()\n",
    "for i in artist_nodes.values():\n",
    "    tx.create(i)\n",
    "for i in work_nodes.values():\n",
    "    tx.create(i)\n",
    "for i in gallery_nodes.values():\n",
    "    tx.create(i)\n",
    "for i in style_nodes.values():\n",
    "    tx.create(i)\n",
    "for i in color_nodes.values():\n",
    "    tx.create(i)\n",
    "for i in artist_work_rel.values():\n",
    "    tx.create(i)\n",
    "for i in artist_gallery_rel.values():\n",
    "    tx.create(i)\n",
    "for i in gallery_work_rel.values():\n",
    "    tx.create(i)\n",
    "for i in same_gallery_rel:\n",
    "    tx.create(i)\n",
    "for i in style_work_rel.values():\n",
    "    tx.create(i)\n",
    "for i in artist_style_rel:\n",
    "    tx.create(i)\n",
    "for i in work_color_rel:\n",
    "    tx.create(i)\n",
    "    \n",
    "graph.commit(tx)"
   ]
  },
  {
   "cell_type": "code",
   "execution_count": 67,
   "metadata": {},
   "outputs": [
    {
     "data": {
      "text/plain": [
       "'tx = graph.begin()\\nfor i in style_work_rel.values():\\n    tx.create(i)\\nfor i in work_nodes.values():\\n    tx.create(i)\\nfor i in style_nodes.values():\\n    tx.create(i)\\ngraph.commit(tx)'"
      ]
     },
     "execution_count": 67,
     "metadata": {},
     "output_type": "execute_result"
    }
   ],
   "source": [
    "\"\"\"tx = graph.begin()\n",
    "for i in style_work_rel.values():\n",
    "    tx.create(i)\n",
    "for i in work_nodes.values():\n",
    "    tx.create(i)\n",
    "for i in style_nodes.values():\n",
    "    tx.create(i)\n",
    "graph.commit(tx)\"\"\""
   ]
  },
  {
   "cell_type": "markdown",
   "metadata": {},
   "source": []
  },
  {
   "cell_type": "code",
   "execution_count": 68,
   "metadata": {},
   "outputs": [
    {
     "data": {
      "text/plain": [
       "'MATCH (n:MyImageNode)\\nSET n.image_url = \"http://myimage.png\"\\nRETURN n'"
      ]
     },
     "execution_count": 68,
     "metadata": {},
     "output_type": "execute_result"
    }
   ],
   "source": [
    "\"\"\"MATCH (n:MyImageNode)\n",
    "SET n.image_url = \"http://myimage.png\"\n",
    "RETURN n\"\"\""
   ]
  },
  {
   "cell_type": "code",
   "execution_count": 70,
   "metadata": {},
   "outputs": [],
   "source": [
    "#get img list\n",
    "img_df = neo_df[['id','img_url']]\n",
    "img_list = []\n",
    "for i in range(len(img_df)):\n",
    "    img_list.append(list(img_df.iloc[i]))\n",
    "temp= []\n",
    "[temp.append(i) for i in img_list if not i in temp]\n",
    "img_list = temp"
   ]
  },
  {
   "cell_type": "code",
   "execution_count": 71,
   "metadata": {},
   "outputs": [],
   "source": [
    "query_list = []\n",
    "for i in img_list:\n",
    "    query = 'MATCH (n:Artork) WHERE n.id = \"{}\" SET n.image_url = \"{}\" RETURN n'.format(i[0],i[1])\n",
    "    query_list.append(query)"
   ]
  },
  {
   "cell_type": "code",
   "execution_count": 74,
   "metadata": {},
   "outputs": [
    {
     "name": "stdout",
     "output_type": "stream",
     "text": [
      "[{'n': {'year': 2020, 'image_url': 'https://d7hftxdivxxvm.cloudfront.net?resize_to=fit&width=600&height=800&quality=80&src=https%3A%2F%2Fd32dm0rphc51dk.cloudfront.net%2F03VidwQCDEq-r0T3Ck3CcA%2Fnormalized.jpg', 'price': 125000, 'name': 'Death Of The Black Fairy, The Great Debate Pt. 5', 'media': 'painting', 'id': 'painting15'}}]\n",
      "[{'n': {'year': 2022, 'image_url': 'https://d7hftxdivxxvm.cloudfront.net?resize_to=fit&width=639&height=800&quality=80&src=https%3A%2F%2Fd32dm0rphc51dk.cloudfront.net%2FC8CkTBthzSHZY08MLF0zFA%2Fnormalized.jpg', 'price': 17500, 'name': 'Maestro', 'id': 'painting37', 'media': 'painting'}}]\n",
      "[{'n': {'year': 2017, 'image_url': 'https://d7hftxdivxxvm.cloudfront.net?resize_to=fit&width=800&height=768&quality=80&src=https%3A%2F%2Fd32dm0rphc51dk.cloudfront.net%2F6iXBZQgdBLRzr7OtGn0zOA%2Fnormalized.jpg', 'price': 5000, 'name': 'La cage où le brouillard traverse l’esprit', 'media': 'painting', 'id': 'painting41'}}]\n",
      "[{'n': {'year': 2022, 'image_url': 'https://d7hftxdivxxvm.cloudfront.net?resize_to=fit&width=619&height=800&quality=80&src=https%3A%2F%2Fd32dm0rphc51dk.cloudfront.net%2FqXhM9mR4tOlGgb8PzCBVKQ%2Fnormalized.jpg', 'price': 11000, 'name': 'BAYC Clueless Sailor', 'id': 'painting45', 'media': 'painting'}}]\n",
      "[{'n': {'year': 2022, 'image_url': 'https://d7hftxdivxxvm.cloudfront.net?resize_to=fit&width=621&height=800&quality=80&src=https%3A%2F%2Fd32dm0rphc51dk.cloudfront.net%2FQNF9BGQ3CjylysjRBNb6bw%2Fnormalized.jpg', 'price': 17500, 'name': 'A Promising Young Man', 'id': 'painting52', 'media': 'painting'}}]\n",
      "[{'n': {'year': 2022, 'image_url': 'https://d7hftxdivxxvm.cloudfront.net?resize_to=fit&width=799&height=658&quality=80&src=https%3A%2F%2Fd32dm0rphc51dk.cloudfront.net%2F1bJAtOHennfjd1TKE9aF1Q%2Fnormalized.jpg', 'price': 25000, 'name': 'A Peaceful Mind', 'id': 'painting58', 'media': 'painting'}}]\n",
      "[{'n': {'year': 2022, 'image_url': 'https://d7hftxdivxxvm.cloudfront.net?resize_to=fit&width=625&height=800&quality=80&src=https%3A%2F%2Fd32dm0rphc51dk.cloudfront.net%2FRmZlWjhfswv8b4ww0gSU0Q%2Fnormalized.jpg', 'price': 17500, 'name': 'Before The Storm', 'id': 'painting63', 'media': 'painting'}}]\n",
      "[{'n': {'year': 2022, 'image_url': 'https://d7hftxdivxxvm.cloudfront.net?resize_to=fit&width=629&height=800&quality=80&src=https%3A%2F%2Fd32dm0rphc51dk.cloudfront.net%2FOLO92l-RPXDVFUEb7-l5ow%2Fnormalized.jpg', 'price': 13000, 'name': \"'Love is the Answer' Balloon Girl, Unique Painting\", 'media': 'painting', 'id': 'painting65'}}]\n",
      "[{'n': {'year': 2019, 'image_url': 'https://d7hftxdivxxvm.cloudfront.net?resize_to=fit&width=800&height=624&quality=80&src=https%3A%2F%2Fd32dm0rphc51dk.cloudfront.net%2FAqClCc2i7a8yIcB9YlonEA%2Fnormalized.jpg', 'price': 700, 'name': 'Phooey Martial Hearts', 'id': 'painting67', 'media': 'painting'}}]\n",
      "[{'n': {'year': 1978, 'image_url': 'https://d7hftxdivxxvm.cloudfront.net?resize_to=fit&width=740&height=800&quality=80&src=https%3A%2F%2Fd32dm0rphc51dk.cloudfront.net%2FmuUmEYp290kBZv_dP-zZLQ%2Fnormalized.jpg', 'price': 65000, 'name': 'LOVE STAR OF DAVID', 'id': 'painting77', 'media': 'painting'}}]\n",
      "[{'n': {'year': 2022, 'image_url': 'https://d7hftxdivxxvm.cloudfront.net?resize_to=fit&width=617&height=800&quality=80&src=https%3A%2F%2Fd32dm0rphc51dk.cloudfront.net%2FWPk1hNW91wGYrrCmf-bUAg%2Fnormalized.jpg', 'price': 17500, 'name': 'Gentleman In Black IV', 'id': 'painting83', 'media': 'painting'}}]\n",
      "[{'n': {'year': 2022, 'image_url': 'https://d7hftxdivxxvm.cloudfront.net?resize_to=fit&width=580&height=800&quality=80&src=https%3A%2F%2Fd32dm0rphc51dk.cloudfront.net%2FDKYyoMmsg1v_jYntjZtlAg%2Fnormalized.jpg', 'price': 14000, 'name': \"'Beautiful' Follow Your Dreams Monkey, Unique Painting\", 'media': 'painting', 'id': 'painting86'}}]\n",
      "[{'n': {'year': 2022, 'image_url': 'https://d7hftxdivxxvm.cloudfront.net?resize_to=fit&width=800&height=569&quality=80&src=https%3A%2F%2Fd32dm0rphc51dk.cloudfront.net%2Fh6E0HdZ4KeprgUi1hRqnZw%2Fnormalized.jpg', 'price': 14000, 'name': \"'Follow Your Heart' Balloon Girl, Unique Painting\", 'media': 'painting', 'id': 'painting91'}}]\n",
      "[{'n': {'year': 2020, 'image_url': 'https://d7hftxdivxxvm.cloudfront.net?resize_to=fit&width=800&height=400&quality=80&src=https%3A%2F%2Fd32dm0rphc51dk.cloudfront.net%2FkKsBwIBHqIZ7dGnqXzkukw%2Fnormalized.jpg', 'price': 2496, 'name': 'Iceberg / Carambolage 2', 'media': 'painting', 'id': 'painting98'}}]\n",
      "[{'n': {'year': 2022, 'image_url': 'https://d7hftxdivxxvm.cloudfront.net?resize_to=fit&width=632&height=800&quality=80&src=https%3A%2F%2Fd32dm0rphc51dk.cloudfront.net%2FsJbNtIj9YxTYqhnCxIfDlg%2Fnormalized.jpg', 'price': 12500, 'name': \"'Work Well Together,' Unique Painting\", 'media': 'painting', 'id': 'painting100'}}]\n",
      "[{'n': {'year': 2022, 'image_url': 'https://d7hftxdivxxvm.cloudfront.net?resize_to=fit&width=617&height=800&quality=80&src=https%3A%2F%2Fd32dm0rphc51dk.cloudfront.net%2FzhfyG1a6TIxO46-y6Z9Nsg%2Fnormalized.jpg', 'price': 17500, 'name': 'Gentleman In Black I', 'id': 'painting104', 'media': 'painting'}}]\n",
      "[{'n': {'year': 2020, 'image_url': 'https://d7hftxdivxxvm.cloudfront.net?resize_to=fit&width=593&height=800&quality=80&src=https%3A%2F%2Fd32dm0rphc51dk.cloudfront.net%2FP-emkGDSHcwGZHE3Cl1hEw%2Fnormalized.jpg', 'price': 4368, 'name': 'Altered Structure', 'id': 'painting117', 'media': 'painting'}}]\n",
      "[{'n': {'year': 2020, 'image_url': 'https://d7hftxdivxxvm.cloudfront.net?resize_to=fit&width=800&height=400&quality=80&src=https%3A%2F%2Fd32dm0rphc51dk.cloudfront.net%2FkKsBwIBHqIZ7dGnqXzkukw%2Fnormalized.jpg', 'price': 2496, 'name': 'Iceberg / Carambolage 2', 'media': 'painting', 'id': 'painting127'}}]\n",
      "[{'n': {'year': 2020, 'image_url': 'https://d7hftxdivxxvm.cloudfront.net?resize_to=fit&width=633&height=800&quality=80&src=https%3A%2F%2Fd32dm0rphc51dk.cloudfront.net%2FEeB8ikHLAYPg-PWNXpVK7g%2Fnormalized.jpg', 'price': 3120, 'name': 'Uplift', 'id': 'painting133', 'media': 'painting'}}]\n",
      "[{'n': {'year': 2015, 'image_url': 'https://d7hftxdivxxvm.cloudfront.net?resize_to=fit&width=570&height=800&quality=80&src=https%3A%2F%2Fd32dm0rphc51dk.cloudfront.net%2FF-McM1KhZa6VhyEXinvcxw%2Fnormalized.jpg', 'price': 700, 'name': 'Live East Die Young (Black)', 'media': 'painting', 'id': 'painting140'}}]\n",
      "[{'n': {'year': 2019, 'image_url': 'https://d7hftxdivxxvm.cloudfront.net?resize_to=fit&width=679&height=800&quality=80&src=https%3A%2F%2Fd32dm0rphc51dk.cloudfront.net%2FZBhg8-eutRRbFIBvA06-9A%2Fnormalized.jpg', 'price': 7500, 'name': 'Untitled', 'id': 'painting144', 'media': 'painting'}}]\n",
      "[{'n': {'year': 2020, 'image_url': 'https://d7hftxdivxxvm.cloudfront.net?resize_to=fit&width=608&height=800&quality=80&src=https%3A%2F%2Fd32dm0rphc51dk.cloudfront.net%2Fstj8zzV3Nc95_y3d_6gpVw%2Fnormalized.jpg', 'price': 2080, 'name': 'Mindscape 2', 'id': 'painting145', 'media': 'painting'}}]\n",
      "[{'n': {'year': 2011, 'image_url': 'https://d7hftxdivxxvm.cloudfront.net?resize_to=fit&width=413&height=800&quality=80&src=https%3A%2F%2Fd32dm0rphc51dk.cloudfront.net%2FJVnbw-PCkaveOS3KyFc8NA%2Fnormalized.jpg', 'price': 700, 'name': 'Untitled', 'id': 'painting148', 'media': 'painting'}}]\n",
      "[{'n': {'year': 2022, 'image_url': 'https://d7hftxdivxxvm.cloudfront.net?resize_to=fit&width=800&height=540&quality=80&src=https%3A%2F%2Fd32dm0rphc51dk.cloudfront.net%2Fb-W2z2cQ0te1uPGHRdc_KQ%2Fnormalized.jpg', 'price': 22000, 'name': 'Totem Fly', 'id': 'painting153', 'media': 'painting'}}]\n",
      "[{'n': {'year': 2022, 'image_url': 'https://d7hftxdivxxvm.cloudfront.net?resize_to=fit&width=646&height=800&quality=80&src=https%3A%2F%2Fd32dm0rphc51dk.cloudfront.net%2FSmrwAk4qymbbB06l3PIJhg%2Fnormalized.jpg', 'price': 23900, 'name': 'Three Fold Line Dance', 'id': 'painting159', 'media': 'painting'}}]\n",
      "[{'n': {'year': 2022, 'image_url': 'https://d7hftxdivxxvm.cloudfront.net?resize_to=fit&width=666&height=800&quality=80&src=https%3A%2F%2Fd32dm0rphc51dk.cloudfront.net%2FDg4NioJ84jdzFXakci0geQ%2Fnormalized.jpg', 'price': 13000, 'name': 'Untitled', 'id': 'painting160', 'media': 'painting'}}]\n",
      "[{'n': {'year': 2022, 'image_url': 'https://d7hftxdivxxvm.cloudfront.net?resize_to=fit&width=617&height=800&quality=80&src=https%3A%2F%2Fd32dm0rphc51dk.cloudfront.net%2FprvytyZt0-IbIuTbc9y-1Q%2Fnormalized.jpg', 'price': 17500, 'name': 'Gentleman In Black II', 'id': 'painting168', 'media': 'painting'}}]\n",
      "[{'n': {'year': 2022, 'image_url': 'https://d7hftxdivxxvm.cloudfront.net?resize_to=fit&width=615&height=799&quality=80&src=https%3A%2F%2Fd32dm0rphc51dk.cloudfront.net%2F3mHxwE2BZZNX7aYiQ4oXpQ%2Fnormalized.jpg', 'price': 11000, 'name': 'BAYC Jack Daniels', 'id': 'painting172', 'media': 'painting'}}]\n",
      "[{'n': {'year': 2020, 'image_url': 'https://d7hftxdivxxvm.cloudfront.net?resize_to=fit&width=800&height=489&quality=80&src=https%3A%2F%2Fd32dm0rphc51dk.cloudfront.net%2FS62pUFWVbi1RzCAdXkjfXQ%2Fnormalized.jpg', 'price': 5616, 'name': 'Drift Away', 'id': 'painting177', 'media': 'painting'}}]\n",
      "[{'n': {'year': 2020, 'image_url': 'https://d7hftxdivxxvm.cloudfront.net?resize_to=fit&width=792&height=800&quality=80&src=https%3A%2F%2Fd32dm0rphc51dk.cloudfront.net%2FTtxNT5hvfz-VkqCgdB3vwg%2Fnormalized.jpg', 'price': 5616, 'name': 'Broken Coral', 'id': 'painting183', 'media': 'painting'}}]\n",
      "[{'n': {'year': 2022, 'image_url': 'https://d7hftxdivxxvm.cloudfront.net?resize_to=fit&width=722&height=800&quality=80&src=https%3A%2F%2Fd32dm0rphc51dk.cloudfront.net%2F9d3Z04mAcC5vxE72CuZTvw%2Fnormalized.jpg', 'price': 8250, 'name': 'Untitled', 'id': 'painting199', 'media': 'painting'}}]\n",
      "[{'n': {'year': 2013, 'image_url': 'https://d7hftxdivxxvm.cloudfront.net?resize_to=fit&width=796&height=800&quality=80&src=https%3A%2F%2Fd32dm0rphc51dk.cloudfront.net%2FMNbNHy6WzCI_uAiUnYVmsg%2Fnormalized.jpg', 'price': 4000, 'name': 'Retrospect', 'id': 'painting208', 'media': 'painting'}}]\n",
      "[{'n': {'year': 2006, 'image_url': 'https://d7hftxdivxxvm.cloudfront.net?resize_to=fit&width=800&height=800&quality=80&src=https%3A%2F%2Fd32dm0rphc51dk.cloudfront.net%2Fi1FjSLf8sknTgcoYtJ_HKQ%2Fnormalized.jpg', 'price': 9360, 'name': 'Untitled', 'id': 'painting213', 'media': 'painting'}}]\n",
      "[{'n': {'year': 1983, 'image_url': 'https://d7hftxdivxxvm.cloudfront.net?resize_to=fit&width=800&height=800&quality=80&src=https%3A%2F%2Fd32dm0rphc51dk.cloudfront.net%2F3ZH-1cGHlWbu9DMuBfW8mw%2Fnormalized.jpg', 'price': 900, 'name': 'Woman', 'id': 'painting214', 'media': 'painting'}}]\n",
      "[{'n': {'year': 1982, 'image_url': 'https://d7hftxdivxxvm.cloudfront.net?resize_to=fit&width=800&height=800&quality=80&src=https%3A%2F%2Fd32dm0rphc51dk.cloudfront.net%2FjHAc0jhOT1Ai539Fy_S2lw%2Fnormalized.jpg', 'price': 13500, 'name': 'Bluff Life', 'id': 'painting218', 'media': 'painting'}}]\n",
      "[{'n': {'year': 2022, 'image_url': 'https://d7hftxdivxxvm.cloudfront.net?resize_to=fit&width=800&height=653&quality=80&src=https%3A%2F%2Fd32dm0rphc51dk.cloudfront.net%2FDKo9D-xeB-FdQ7GzRL4zdA%2Fnormalized.jpg', 'price': 20250, 'name': 'Amazons Amazon', 'id': 'painting228', 'media': 'painting'}}]\n",
      "[{'n': {'year': 2022, 'image_url': 'https://d7hftxdivxxvm.cloudfront.net?resize_to=fit&width=800&height=533&quality=80&src=https%3A%2F%2Fd32dm0rphc51dk.cloudfront.net%2FHPfBp7b-dmQdhvyMKSxiVw%2Fnormalized.jpg', 'price': 5400, 'name': 'Glimpsed White;', 'id': 'painting245', 'media': 'painting'}}]\n",
      "[{'n': {'year': 2020, 'image_url': 'https://d7hftxdivxxvm.cloudfront.net?resize_to=fit&width=800&height=694&quality=80&src=https%3A%2F%2Fd32dm0rphc51dk.cloudfront.net%2Fmd72NI1GqaTHJjSaDc8HqA%2Fnormalized.jpg', 'price': 8112, 'name': 'Fata Morgana', 'id': 'painting247', 'media': 'painting'}}]\n",
      "[{'n': {'year': 2022, 'image_url': 'https://d7hftxdivxxvm.cloudfront.net?resize_to=fit&width=699&height=800&quality=80&src=https%3A%2F%2Fd32dm0rphc51dk.cloudfront.net%2FgOTbiz07xmQwVImVpclb_g%2Fnormalized.jpg', 'price': 6500, 'name': 'Showtime', 'id': 'painting253', 'media': 'painting'}}]\n",
      "[{'n': {'year': 2020, 'image_url': 'https://d7hftxdivxxvm.cloudfront.net?resize_to=fit&width=800&height=471&quality=80&src=https%3A%2F%2Fd32dm0rphc51dk.cloudfront.net%2F1AuJZmH8n1Fy-AKhpk0nLA%2Fnormalized.jpg', 'price': 6552, 'name': 'Concrete Mirage', 'id': 'painting255', 'media': 'painting'}}]\n",
      "[{'n': {'year': 2020, 'image_url': 'https://d7hftxdivxxvm.cloudfront.net?resize_to=fit&width=800&height=564&quality=80&src=https%3A%2F%2Fd32dm0rphc51dk.cloudfront.net%2FbyyH5NKgduZmXJ5s4A1HfQ%2Fnormalized.jpg', 'price': 4992, 'name': 'Mindscape 1', 'id': 'painting260', 'media': 'painting'}}]\n",
      "[{'n': {'year': 2006, 'image_url': 'https://d7hftxdivxxvm.cloudfront.net?resize_to=fit&width=800&height=800&quality=80&src=https%3A%2F%2Fd32dm0rphc51dk.cloudfront.net%2FVLFySuqSU_vFRXsjE1UnIg%2Fnormalized.jpg', 'price': 9360, 'name': 'Untitled', 'id': 'painting269', 'media': 'painting'}}]\n",
      "[{'n': {'year': 2022, 'image_url': 'https://d7hftxdivxxvm.cloudfront.net?resize_to=fit&width=661&height=800&quality=80&src=https%3A%2F%2Fd32dm0rphc51dk.cloudfront.net%2FJOxvzAMtwxIr2tS3y54odw%2Fnormalized.jpg', 'price': 6500, 'name': \"'Mistique' Unique Painting\", 'media': 'painting', 'id': 'painting271'}}]\n",
      "[{'n': {'year': 2006, 'image_url': 'https://d7hftxdivxxvm.cloudfront.net?resize_to=fit&width=800&height=800&quality=80&src=https%3A%2F%2Fd32dm0rphc51dk.cloudfront.net%2F8I3GdnjbTU8-iz99rcgV1w%2Fnormalized.jpg', 'price': 9360, 'name': 'Untitled', 'id': 'painting274', 'media': 'painting'}}]\n",
      "[{'n': {'year': 2019, 'image_url': 'https://d7hftxdivxxvm.cloudfront.net?resize_to=fit&width=800&height=528&quality=80&src=https%3A%2F%2Fd32dm0rphc51dk.cloudfront.net%2Fg50CTVHiecTbJiNHchvBTQ%2Fnormalized.jpg', 'price': 5720, 'name': 'Transition', 'id': 'painting291', 'media': 'painting'}}]\n",
      "[{'n': {'year': 2018, 'image_url': 'https://d7hftxdivxxvm.cloudfront.net?resize_to=fit&width=800&height=533&quality=80&src=https%3A%2F%2Fd32dm0rphc51dk.cloudfront.net%2FoRoTa5ipOop6BULy4tTILQ%2Fnormalized.jpg', 'price': 9880, 'name': 'Modern Simplicity', 'id': 'painting293', 'media': 'painting'}}]\n",
      "[{'n': {'year': 2022, 'image_url': 'https://d7hftxdivxxvm.cloudfront.net?resize_to=fit&width=800&height=700&quality=80&src=https%3A%2F%2Fd32dm0rphc51dk.cloudfront.net%2F53pAHkuwizqpMT5v-xdBAw%2Fnormalized.jpg', 'price': 8000, 'name': 'Goal Angle', 'id': 'painting297', 'media': 'painting'}}]\n",
      "[{'n': {'year': 2022, 'image_url': 'https://d7hftxdivxxvm.cloudfront.net?resize_to=fit&width=800&height=600&quality=80&src=https%3A%2F%2Fd32dm0rphc51dk.cloudfront.net%2Fm_HTSudhc5e0M9EJxS2WDQ%2Fnormalized.jpg', 'price': 29000, 'name': 'Totem Swing', 'id': 'painting298', 'media': 'painting'}}]\n",
      "[{'n': {'year': 2022, 'image_url': 'https://d7hftxdivxxvm.cloudfront.net?resize_to=fit&width=635&height=800&quality=80&src=https%3A%2F%2Fd32dm0rphc51dk.cloudfront.net%2FAdnWEAwwAO6MAGzmZf-eAw%2Fnormalized.jpg', 'price': 17500, 'name': 'A Promising Young Woman', 'id': 'painting300', 'media': 'painting'}}]\n",
      "[{'n': {'year': 1996, 'image_url': 'https://d7hftxdivxxvm.cloudfront.net?resize_to=fit&width=800&height=800&quality=80&src=https%3A%2F%2Fd32dm0rphc51dk.cloudfront.net%2FiydMj7e2ouoMrxcqffqCug%2Fnormalized.jpg', 'price': 2100, 'name': 'Untitled', 'id': 'painting302', 'media': 'painting'}}]\n",
      "[{'n': {'year': 2006, 'image_url': 'https://d7hftxdivxxvm.cloudfront.net?resize_to=fit&width=800&height=800&quality=80&src=https%3A%2F%2Fd32dm0rphc51dk.cloudfront.net%2FpGe-iRUz-UYHkLqmuPfhoA%2Fnormalized.jpg', 'price': 9360, 'name': 'Untitled', 'id': 'painting307', 'media': 'painting'}}]\n",
      "[{'n': {'year': 2009, 'image_url': 'https://d7hftxdivxxvm.cloudfront.net?resize_to=fit&width=800&height=800&quality=80&src=https%3A%2F%2Fd32dm0rphc51dk.cloudfront.net%2F78-MvCfwTDmkSgVsmH11KQ%2Fnormalized.jpg', 'price': 2500, 'name': 'Shark Spin Painting', 'id': 'painting317', 'media': 'painting'}}]\n",
      "[{'n': {'year': 2022, 'image_url': 'https://d7hftxdivxxvm.cloudfront.net?resize_to=fit&width=694&height=800&quality=80&src=https%3A%2F%2Fd32dm0rphc51dk.cloudfront.net%2FZjOUQ8MX4yhZOpBweaihAw%2Fnormalized.jpg', 'price': 6500, 'name': \"'4 Cabbage Butterflies Universal' Unique Painting\", 'media': 'painting', 'id': 'painting326'}}]\n",
      "[{'n': {'year': 2020, 'image_url': 'https://d7hftxdivxxvm.cloudfront.net?resize_to=fit&width=665&height=800&quality=80&src=https%3A%2F%2Fd32dm0rphc51dk.cloudfront.net%2Fq3utrVGr2Nk8oto_eRvjqg%2Fnormalized.jpg', 'price': 25000, 'name': 'Tres Marias', 'id': 'painting337', 'media': 'painting'}}]\n",
      "[{'n': {'year': 2022, 'image_url': 'https://d7hftxdivxxvm.cloudfront.net?resize_to=fit&width=800&height=800&quality=80&src=https%3A%2F%2Fd32dm0rphc51dk.cloudfront.net%2FuDgFMD3KQe1_tuG9d1yj-A%2Fnormalized.jpg', 'price': 514, 'name': \"Is This The Sign You're Looking For?\", 'media': 'painting', 'id': 'painting342'}}]\n",
      "[{'n': {'year': 2022, 'image_url': 'https://d7hftxdivxxvm.cloudfront.net?resize_to=fit&width=800&height=654&quality=80&src=https%3A%2F%2Fd32dm0rphc51dk.cloudfront.net%2Fm6Hhf3AGuwju3szA3lxeQg%2Fnormalized.jpg', 'price': 15000, 'name': 'Gold Standard', 'id': 'painting347', 'media': 'painting'}}]\n",
      "[{'n': {'year': 2009, 'image_url': 'https://d7hftxdivxxvm.cloudfront.net?resize_to=fit&width=800&height=800&quality=80&src=https%3A%2F%2Fd32dm0rphc51dk.cloudfront.net%2FlPQQpbOoAZr2OLPvTL4UXg%2Fnormalized.jpg', 'price': 2500, 'name': 'Rocket Spin Painting', 'id': 'painting356', 'media': 'painting'}}]\n",
      "[{'n': {'year': 1961, 'image_url': 'https://d7hftxdivxxvm.cloudfront.net?resize_to=fit&width=800&height=600&quality=80&src=https%3A%2F%2Fd32dm0rphc51dk.cloudfront.net%2FEqi12nBVHoQyB5QSJ6j4ug%2Fnormalized.jpg', 'price': 1352000, 'name': 'Natura morta', 'id': 'painting360', 'media': 'painting'}}]\n",
      "[{'n': {'year': 2020, 'image_url': 'https://d7hftxdivxxvm.cloudfront.net?resize_to=fit&width=642&height=800&quality=80&src=https%3A%2F%2Fd32dm0rphc51dk.cloudfront.net%2FR2SkljGthSN0hKSCdRTCUg%2Fnormalized.jpg', 'price': 3744, 'name': 'Frozen Strokes', 'id': 'painting366', 'media': 'painting'}}]\n",
      "[{'n': {'year': 1968, 'image_url': 'https://d7hftxdivxxvm.cloudfront.net?resize_to=fit&width=800&height=590&quality=80&src=https%3A%2F%2Fd32dm0rphc51dk.cloudfront.net%2FcLQYXRkuflHTqOe2geuhDw%2Fnormalized.jpg', 'price': 10000, 'name': 'Flowers & Tears', 'id': 'painting370', 'media': 'painting'}}]\n",
      "[{'n': {'year': 2011, 'image_url': 'https://d7hftxdivxxvm.cloudfront.net?resize_to=fit&width=595&height=800&quality=80&src=https%3A%2F%2Fd32dm0rphc51dk.cloudfront.net%2F_yBbMV7-JrO11gIlNJW1ZQ%2Fnormalized.jpg', 'price': 24250, 'name': 'Death in the Afternoon Study', 'media': 'painting', 'id': 'painting372'}}]\n",
      "[{'n': {'year': 1999, 'image_url': 'https://d7hftxdivxxvm.cloudfront.net?resize_to=fit&width=798&height=800&quality=80&src=https%3A%2F%2Fd32dm0rphc51dk.cloudfront.net%2FHbwEneQFIW9imEYfoV4zWg%2Fnormalized.jpg', 'price': 810000, 'name': 'Untitled (Birthday Card)', 'media': 'painting', 'id': 'painting377'}}]\n",
      "[{'n': {'year': 2021, 'image_url': 'https://d7hftxdivxxvm.cloudfront.net?resize_to=fit&width=569&height=800&quality=80&src=https%3A%2F%2Fd32dm0rphc51dk.cloudfront.net%2FC6I132yqLR6Il2YC0riReA%2Fnormalized.jpg', 'price': 6240, 'name': 'FLASH/BLACK/OFFSHORE 21 éclosion géométrique # 1', 'media': 'painting', 'id': 'painting380'}}]\n",
      "[{'n': {'year': 2010, 'image_url': 'https://d7hftxdivxxvm.cloudfront.net?resize_to=fit&width=800&height=683&quality=80&src=https%3A%2F%2Fd32dm0rphc51dk.cloudfront.net%2Fm8rGXwcpgdtEsViB3goCSw%2Fnormalized.jpg', 'price': 1250, 'name': 'Monopoly Man', 'id': 'painting391', 'media': 'painting'}}]\n",
      "[{'n': {'year': 2021, 'image_url': 'https://d7hftxdivxxvm.cloudfront.net?resize_to=fit&width=775&height=800&quality=80&src=https%3A%2F%2Fd32dm0rphc51dk.cloudfront.net%2FqwkTk7nt_J_i7waqxqj-XQ%2Fnormalized.jpg', 'price': 3500, 'name': 'Art Toy Love (Painting+Sculpture)', 'media': 'painting', 'id': 'painting398'}}]\n",
      "[{'n': {'year': 2019, 'image_url': 'https://d7hftxdivxxvm.cloudfront.net?resize_to=fit&width=412&height=800&quality=80&src=https%3A%2F%2Fd32dm0rphc51dk.cloudfront.net%2FRSgRn8RNyv73GttCiZPhBg%2Fnormalized.jpg', 'price': 2808, 'name': 'Pink with Lipstick', 'id': 'painting421', 'media': 'painting'}}]\n",
      "[{'n': {'year': 2019, 'image_url': 'https://d7hftxdivxxvm.cloudfront.net?resize_to=fit&width=600&height=800&quality=80&src=https%3A%2F%2Fd32dm0rphc51dk.cloudfront.net%2Ft2s8UV4OT-7IyY6SH4NJXA%2Fnormalized.jpg', 'price': 6240, 'name': 'Cube Éclosions Géométriques #1', 'media': 'painting', 'id': 'painting429'}}]\n",
      "[{'n': {'year': 1920, 'image_url': 'https://d7hftxdivxxvm.cloudfront.net?resize_to=fit&width=663&height=800&quality=80&src=https%3A%2F%2Fd32dm0rphc51dk.cloudfront.net%2FD_5WRXpvf3oGnGG_clpCtg%2Fnormalized.jpg', 'price': 20000, 'name': 'Nude Woman Bathing', 'id': 'painting434', 'media': 'painting'}}]\n",
      "[{'n': {'year': 2020, 'image_url': 'https://d7hftxdivxxvm.cloudfront.net?resize_to=fit&width=564&height=800&quality=80&src=https%3A%2F%2Fd32dm0rphc51dk.cloudfront.net%2FFNHRtkvsHFzSPp5k0okIkw%2Fnormalized.jpg', 'price': 3640, 'name': 'C.U.B.E Flash Offshore', 'id': 'painting439', 'media': 'painting'}}]\n",
      "[{'n': {'year': 2008, 'image_url': 'https://d7hftxdivxxvm.cloudfront.net?resize_to=fit&width=800&height=631&quality=80&src=https%3A%2F%2Fd32dm0rphc51dk.cloudfront.net%2Fe8SJWgdpa9izSNxmHy1-sg%2Fnormalized.jpg', 'price': 28895, 'name': 'POP ART SAILING 2008', 'id': 'painting442', 'media': 'painting'}}]\n",
      "[{'n': {'year': 2020, 'image_url': 'https://d7hftxdivxxvm.cloudfront.net?resize_to=fit&width=800&height=800&quality=80&src=https%3A%2F%2Fd32dm0rphc51dk.cloudfront.net%2FIvbwqBdSXvh7xbni0n2lUg%2Fnormalized.jpg', 'price': 1601, 'name': 'Floral Harmony (Dark Blue Yin Yang)', 'media': 'painting', 'id': 'painting455'}}]\n",
      "[{'n': {'year': 2020, 'image_url': 'https://d7hftxdivxxvm.cloudfront.net?resize_to=fit&width=800&height=380&quality=80&src=https%3A%2F%2Fd32dm0rphc51dk.cloudfront.net%2Fs2FLADnK9mZdfWivS7y4vg%2Fnormalized.jpg', 'price': 2496, 'name': 'Iceberg / Carambolage 1', 'media': 'painting', 'id': 'painting461'}}]\n",
      "[{'n': {'year': 2020, 'image_url': 'https://d7hftxdivxxvm.cloudfront.net?resize_to=fit&width=592&height=800&quality=80&src=https%3A%2F%2Fd32dm0rphc51dk.cloudfront.net%2FJN9zXI0NujgiURtRu5FxxQ%2Fnormalized.jpg', 'price': 5408, 'name': 'Erosion', 'id': 'painting469', 'media': 'painting'}}]\n",
      "[{'n': {'year': 2022, 'image_url': 'https://d7hftxdivxxvm.cloudfront.net?resize_to=fit&width=626&height=800&quality=80&src=https%3A%2F%2Fd32dm0rphc51dk.cloudfront.net%2FHk8WMnaCbcp3jSw0un3wxQ%2Fnormalized.jpg', 'price': 5400, 'name': 'The Cage', 'id': 'painting474', 'media': 'painting'}}]\n",
      "[{'n': {'year': 2004, 'image_url': 'https://d7hftxdivxxvm.cloudfront.net?resize_to=fit&width=680&height=800&quality=80&src=https%3A%2F%2Fd32dm0rphc51dk.cloudfront.net%2FIXDItdbLoYIKQGPqZ5d0gw%2Fnormalized.jpg', 'price': 468000, 'name': 'War Cut II', 'id': 'painting476', 'media': 'painting'}}]\n",
      "[{'n': {'year': 2016, 'image_url': 'https://d7hftxdivxxvm.cloudfront.net?resize_to=fit&width=691&height=800&quality=80&src=https%3A%2F%2Fd32dm0rphc51dk.cloudfront.net%2F0EmO7atlVEDKtBooXzJkAg%2Fnormalized.jpg', 'price': 7500, 'name': 'Untitled', 'id': 'painting479', 'media': 'painting'}}]\n",
      "[{'n': {'year': 2021, 'image_url': 'https://d7hftxdivxxvm.cloudfront.net?resize_to=fit&width=663&height=800&quality=80&src=https%3A%2F%2Fd32dm0rphc51dk.cloudfront.net%2F2wwrIjWyUeykk0QUD5N7XQ%2Fnormalized.jpg', 'price': 4000, 'name': 'P8-21', 'id': 'painting493', 'media': 'painting'}}]\n",
      "[{'n': {'year': 1963, 'image_url': 'https://d7hftxdivxxvm.cloudfront.net?resize_to=fit&width=800&height=634&quality=80&src=https%3A%2F%2Fd32dm0rphc51dk.cloudfront.net%2FtK79Uonu1y0Nz2UpHpNOKg%2Fnormalized.jpg', 'price': 6895, 'name': 'Deux Musiciens', 'id': 'painting504', 'media': 'painting'}}]\n",
      "[{'n': {'year': 2017, 'image_url': 'https://d7hftxdivxxvm.cloudfront.net?resize_to=fit&width=800&height=294&quality=80&src=https%3A%2F%2Fd32dm0rphc51dk.cloudfront.net%2FBLYVKTs4yhw3_QuIP5NAbA%2Fnormalized.jpg', 'price': 36500, 'name': 'Untitled (Yellow Monster 18)', 'media': 'painting', 'id': 'painting534'}}]\n",
      "[{'n': {'year': 2020, 'image_url': 'https://d7hftxdivxxvm.cloudfront.net?resize_to=fit&width=596&height=800&quality=80&src=https%3A%2F%2Fd32dm0rphc51dk.cloudfront.net%2FARvNAz3Tp0pK_XIzFfIp_g%2Fnormalized.jpg', 'price': 7800, 'name': 'Flash Pyramide', 'id': 'painting547', 'media': 'painting'}}]\n",
      "[{'n': {'year': 2020, 'image_url': 'https://d7hftxdivxxvm.cloudfront.net?resize_to=fill&width=800&height=800&quality=80&src=https%3A%2F%2Fd32dm0rphc51dk.cloudfront.net%2FbPzTslHDkGFgBaWTO-GdhA%2Fnormalized.jpg', 'price': 2080, 'name': 'Elevation 3', 'id': 'painting548', 'media': 'painting'}}]\n",
      "[{'n': {'year': 2006, 'image_url': 'https://d7hftxdivxxvm.cloudfront.net?resize_to=fit&width=800&height=800&quality=80&src=https%3A%2F%2Fd32dm0rphc51dk.cloudfront.net%2FtkugT3M4zgmTYBP-lIvgzQ%2Fnormalized.jpg', 'price': 9360, 'name': 'Untitled', 'id': 'painting551', 'media': 'painting'}}]\n",
      "[{'n': {'year': 2022, 'image_url': 'https://d7hftxdivxxvm.cloudfront.net?resize_to=fit&width=674&height=800&quality=80&src=https%3A%2F%2Fd32dm0rphc51dk.cloudfront.net%2F8HCF5K3IqsS_lLeJPBfcYg%2Fnormalized.jpg', 'price': 12500, 'name': 'xyz', 'media': 'painting', 'id': 'painting556'}}]\n",
      "[{'n': {'year': 2022, 'image_url': 'https://d7hftxdivxxvm.cloudfront.net?resize_to=fit&width=634&height=800&quality=80&src=https%3A%2F%2Fd32dm0rphc51dk.cloudfront.net%2FDH0ZkBRAloW0jjk7DxiePQ%2Fnormalized.jpg', 'price': 2016, 'name': 'Begin Again', 'id': 'painting560', 'media': 'painting'}}]\n",
      "[{'n': {'year': 2022, 'image_url': 'https://d7hftxdivxxvm.cloudfront.net?resize_to=fit&width=800&height=797&quality=80&src=https%3A%2F%2Fd32dm0rphc51dk.cloudfront.net%2F4FC1OP42pj7qaI_0pek19g%2Fnormalized.jpg', 'price': 5200, 'name': 'World cup', 'id': 'painting563', 'media': 'painting'}}]\n",
      "[{'n': {'year': 2020, 'image_url': 'https://d7hftxdivxxvm.cloudfront.net?resize_to=fit&width=800&height=642&quality=80&src=https%3A%2F%2Fd32dm0rphc51dk.cloudfront.net%2FRoyW5IB5o2Ewv88JaxtIOA%2Fnormalized.jpg', 'price': 3744, 'name': 'Core One', 'id': 'painting565', 'media': 'painting'}}]\n",
      "[{'n': {'year': 2020, 'image_url': 'https://d7hftxdivxxvm.cloudfront.net?resize_to=fit&width=560&height=800&quality=80&src=https%3A%2F%2Fd32dm0rphc51dk.cloudfront.net%2Ft-__8z2BavU-MWVjDu-YRA%2Fnormalized.jpg', 'price': 3640, 'name': 'C.U.B.E flash Offshore', 'id': 'painting568', 'media': 'painting'}}]\n",
      "[{'n': {'year': 2022, 'image_url': 'https://d7hftxdivxxvm.cloudfront.net?resize_to=fit&width=800&height=800&quality=80&src=https%3A%2F%2Fd32dm0rphc51dk.cloudfront.net%2Fw-NeC62R-sbY5Vt7KtaBrg%2Fnormalized.jpg', 'price': 468, 'name': 'Happy Monster \"Lowie\"', 'media': 'painting', 'id': 'painting570'}}]\n",
      "[{'n': {'year': 2019, 'image_url': 'https://d7hftxdivxxvm.cloudfront.net?resize_to=fit&width=524&height=800&quality=80&src=https%3A%2F%2Fd32dm0rphc51dk.cloudfront.net%2F868CMDb4ei5AJaHhvP-v9w%2Fnormalized.jpg', 'price': 10600, 'name': \"There's Nothing So Seductive As A Dangerous Idea\", 'media': 'painting', 'id': 'painting578'}}]\n",
      "[{'n': {'year': 2001, 'image_url': 'https://d7hftxdivxxvm.cloudfront.net?resize_to=fit&width=779&height=800&quality=80&src=https%3A%2F%2Fd32dm0rphc51dk.cloudfront.net%2FNstcuPjXRHi-lu2Yhv-0aw%2Fnormalized.jpg', 'price': 10000, 'name': 'Spin painting', 'id': 'painting579', 'media': 'painting'}}]\n",
      "[{'n': {'year': 2022, 'image_url': 'https://d7hftxdivxxvm.cloudfront.net?resize_to=fit&width=800&height=597&quality=80&src=https%3A%2F%2Fd32dm0rphc51dk.cloudfront.net%2FhqKKn_lRi14w5RZVaZf0JQ%2Fnormalized.jpg', 'price': 10000, 'name': 'Celebration', 'id': 'painting610', 'media': 'painting'}}]\n",
      "[{'n': {'year': 2022, 'image_url': 'https://d7hftxdivxxvm.cloudfront.net?resize_to=fit&width=800&height=800&quality=80&src=https%3A%2F%2Fd32dm0rphc51dk.cloudfront.net%2FA5IRNUQA6GwWVzip9AurhQ%2Fnormalized.jpg', 'price': 514, 'name': 'Keep Fuckin Smiling', 'id': 'painting621', 'media': 'painting'}}]\n",
      "[{'n': {'year': 2009, 'image_url': 'https://d7hftxdivxxvm.cloudfront.net?resize_to=fit&width=800&height=800&quality=80&src=https%3A%2F%2Fd32dm0rphc51dk.cloudfront.net%2FIhx2kf2vKhDAbDyss9XZ_A%2Fnormalized.jpg', 'price': 2500, 'name': 'Saturn Spin Painting', 'id': 'painting625', 'media': 'painting'}}]\n",
      "[{'n': {'year': 2022, 'image_url': 'https://d7hftxdivxxvm.cloudfront.net?resize_to=fit&width=800&height=600&quality=80&src=https%3A%2F%2Fd32dm0rphc51dk.cloudfront.net%2FHLHG91CzecHbQOTDQgC4CA%2Fnormalized.jpg', 'price': 30000, 'name': 'Forest filled with pines and electronics', 'media': 'painting', 'id': 'painting626'}}]\n",
      "[{'n': {'year': 2020, 'image_url': 'https://d7hftxdivxxvm.cloudfront.net?resize_to=fit&width=588&height=800&quality=80&src=https%3A%2F%2Fd32dm0rphc51dk.cloudfront.net%2FUyu0T7fl0ZCrP-KmyILp2w%2Fnormalized.jpg', 'price': 1560, 'name': 'Wild Tiger', 'id': 'painting627', 'media': 'painting'}}]\n",
      "[{'n': {'year': 2019, 'image_url': 'https://d7hftxdivxxvm.cloudfront.net?resize_to=fit&width=800&height=554&quality=80&src=https%3A%2F%2Fd32dm0rphc51dk.cloudfront.net%2FGcSP_LlkM7z5F4lB-BqZGw%2Fnormalized.jpg', 'price': 9880, 'name': 'Eclosion géométrique', 'id': 'painting628', 'media': 'painting'}}]\n",
      "[{'n': {'year': 2021, 'image_url': 'https://d7hftxdivxxvm.cloudfront.net?resize_to=fit&width=395&height=800&quality=80&src=https%3A%2F%2Fd32dm0rphc51dk.cloudfront.net%2FwEObr_AbHLYFRUmLfHvtFA%2Fnormalized.jpg', 'price': 4574, 'name': 'Single Lads 6 and 1', 'id': 'painting636', 'media': 'painting'}}]\n",
      "[{'n': {'year': 2022, 'image_url': 'https://d7hftxdivxxvm.cloudfront.net?resize_to=fit&width=599&height=800&quality=80&src=https%3A%2F%2Fd32dm0rphc51dk.cloudfront.net%2Faj-aA0JqJMLdGEzK0b-p-Q%2Fnormalized.jpg', 'price': 1200, 'name': 'Now, where was I?', 'id': 'painting651', 'media': 'painting'}}]\n",
      "[{'n': {'year': 2022, 'image_url': 'https://d7hftxdivxxvm.cloudfront.net?resize_to=fit&width=800&height=619&quality=80&src=https%3A%2F%2Fd32dm0rphc51dk.cloudfront.net%2FKxYOhhYa9O3In-HBwfpXGA%2Fnormalized.jpg', 'price': 676, 'name': 'Red Motor', 'id': 'painting653', 'media': 'painting'}}]\n",
      "[{'n': {'year': 2022, 'image_url': 'https://d7hftxdivxxvm.cloudfront.net?resize_to=fit&width=684&height=800&quality=80&src=https%3A%2F%2Fd32dm0rphc51dk.cloudfront.net%2FBde01aRAEVAa3yahygzo4g%2Fnormalized.jpg', 'price': 13500, 'name': 'Coral Duet', 'id': 'painting659', 'media': 'painting'}}]\n",
      "[{'n': {'year': 2021, 'image_url': 'https://d7hftxdivxxvm.cloudfront.net?resize_to=fit&width=604&height=800&quality=80&src=https%3A%2F%2Fd32dm0rphc51dk.cloudfront.net%2FcYeCh-lqcLiJ-kJl3gCY4A%2Fnormalized.jpg', 'price': 6240, 'name': 'FLASH/BLACK/OFFSHORE 21 éclosion géométrique # 4', 'media': 'painting', 'id': 'painting665'}}]\n",
      "[{'n': {'year': 2020, 'image_url': 'https://d7hftxdivxxvm.cloudfront.net?resize_to=fit&width=800&height=395&quality=80&src=https%3A%2F%2Fd32dm0rphc51dk.cloudfront.net%2F6-QBh_vbFxlrA32S7q28cw%2Fnormalized.jpg', 'price': 4574, 'name': 'Washing Line Lads 20', 'id': 'painting667', 'media': 'painting'}}]\n",
      "[{'n': {'year': 2010, 'image_url': 'https://d7hftxdivxxvm.cloudfront.net?resize_to=fit&width=800&height=659&quality=80&src=https%3A%2F%2Fd32dm0rphc51dk.cloudfront.net%2FQSVCdqoh1Df2aB3VxU8Zsg%2Fnormalized.jpg', 'price': 83200, 'name': 'Ed and Marlanela. 9.', 'id': 'painting669', 'media': 'painting'}}]\n",
      "[{'n': {'year': 1988, 'image_url': 'https://d7hftxdivxxvm.cloudfront.net?resize_to=fit&width=768&height=800&quality=80&src=https%3A%2F%2Fd32dm0rphc51dk.cloudfront.net%2FNLH8k-nFIYvfVBKASsTMfg%2Fnormalized.jpg', 'price': 125000, 'name': 'Translumina', 'id': 'painting672', 'media': 'painting'}}]\n",
      "[{'n': {'year': 2020, 'image_url': 'https://d7hftxdivxxvm.cloudfront.net?resize_to=fit&width=566&height=800&quality=80&src=https%3A%2F%2Fd32dm0rphc51dk.cloudfront.net%2FfreETrbwQWOS4QKgXHd7Kg%2Fnormalized.jpg', 'price': 3640, 'name': 'Flash Back', 'id': 'painting682', 'media': 'painting'}}]\n",
      "[{'n': {'year': 2019, 'image_url': 'https://d7hftxdivxxvm.cloudfront.net?resize_to=fit&width=800&height=529&quality=80&src=https%3A%2F%2Fd32dm0rphc51dk.cloudfront.net%2Flq6tIuSRCm-ctd5ngtFSrA%2Fnormalized.jpg', 'price': 19500, 'name': 'Eyes on Wood I', 'id': 'painting688', 'media': 'painting'}}]\n",
      "[{'n': {'year': 2017, 'image_url': 'https://d7hftxdivxxvm.cloudfront.net?resize_to=fit&width=800&height=560&quality=80&src=https%3A%2F%2Fd32dm0rphc51dk.cloudfront.net%2FG4pBgQ85DIkdPffByXG_CA%2Fnormalized.jpg', 'price': 44200, 'name': 'Blend 2017', 'id': 'painting693', 'media': 'painting'}}]\n",
      "[{'n': {'year': 2009, 'image_url': 'https://d7hftxdivxxvm.cloudfront.net?resize_to=fit&width=800&height=800&quality=80&src=https%3A%2F%2Fd32dm0rphc51dk.cloudfront.net%2FXNAa-zxiJeSe60Y4w9zAYA%2Fnormalized.jpg', 'price': 2500, 'name': 'Circle Spin Painting', 'id': 'painting699', 'media': 'painting'}}]\n",
      "[{'n': {'year': 1972, 'image_url': 'https://d7hftxdivxxvm.cloudfront.net?resize_to=fit&width=800&height=612&quality=80&src=https%3A%2F%2Fd32dm0rphc51dk.cloudfront.net%2FMJai5_TYW08Dg794B4q13Q%2Fnormalized.jpg', 'price': 48000, 'name': 'Untitled', 'id': 'painting707', 'media': 'painting'}}]\n",
      "[{'n': {'year': 2022, 'image_url': 'https://d7hftxdivxxvm.cloudfront.net?resize_to=fit&width=671&height=800&quality=80&src=https%3A%2F%2Fd32dm0rphc51dk.cloudfront.net%2F9y26zEMkJCxpA6r5x0pThg%2Fnormalized.jpg', 'price': 12000, 'name': \"'Green Abraham Lincoln' Unique Painting\", 'media': 'painting', 'id': 'painting709'}}]\n",
      "[{'n': {'year': 2020, 'image_url': 'https://d7hftxdivxxvm.cloudfront.net?resize_to=fit&width=800&height=800&quality=80&src=https%3A%2F%2Fd32dm0rphc51dk.cloudfront.net%2FXlDkpJuTtO_vkD1KMb7j_g%2Fnormalized.jpg', 'price': 13520, 'name': 'Royal Blue Kingdom', 'id': 'painting710', 'media': 'painting'}}]\n",
      "[{'n': {'year': 2021, 'image_url': 'https://d7hftxdivxxvm.cloudfront.net?resize_to=fit&width=788&height=800&quality=80&src=https%3A%2F%2Fd32dm0rphc51dk.cloudfront.net%2F10topbhGlYprAg7b54w0hw%2Fnormalized.jpg', 'price': 1872, 'name': 'Iris', 'media': 'painting', 'id': 'painting716'}}]\n",
      "[{'n': {'year': 2009, 'image_url': 'https://d7hftxdivxxvm.cloudfront.net?resize_to=fit&width=800&height=800&quality=80&src=https%3A%2F%2Fd32dm0rphc51dk.cloudfront.net%2FW-paRCb7BisaX5UjOwDyRQ%2Fnormalized.jpg', 'price': 2500, 'name': 'Skull Spin Painting', 'id': 'painting720', 'media': 'painting'}}]\n",
      "[{'n': {'year': 2021, 'image_url': 'https://d7hftxdivxxvm.cloudfront.net?resize_to=fit&width=800&height=800&quality=80&src=https%3A%2F%2Fd32dm0rphc51dk.cloudfront.net%2FfurfArv3bZxxaa2j6_9DZg%2Fnormalized.jpg', 'price': 5083, 'name': 'Good Times 83', 'id': 'painting723', 'media': 'painting'}}]\n",
      "[{'n': {'year': 2000, 'image_url': 'https://d7hftxdivxxvm.cloudfront.net?resize_to=fit&width=645&height=800&quality=80&src=https%3A%2F%2Fd32dm0rphc51dk.cloudfront.net%2F8ett6q104dW_mG569RVqUA%2Fnormalized.jpg', 'price': 36400, 'name': 'Shun Lee Palace', 'id': 'painting731', 'media': 'painting'}}]\n",
      "[{'n': {'year': 2008, 'image_url': 'https://d7hftxdivxxvm.cloudfront.net?resize_to=fit&width=637&height=800&quality=80&src=https%3A%2F%2Fd32dm0rphc51dk.cloudfront.net%2FLXiQWXFuRGVVHkb0hh-2Ng%2Fnormalized.jpg', 'price': 70000, 'name': '\"Compress City (The ledder escapade)\"', 'media': 'painting', 'id': 'painting736'}}]\n",
      "[{'n': {'year': 2017, 'image_url': 'https://d7hftxdivxxvm.cloudfront.net?resize_to=fit&width=800&height=800&quality=80&src=https%3A%2F%2Fd32dm0rphc51dk.cloudfront.net%2FGTm2YlubKfCS2HBZelpKqA%2Fnormalized.jpg', 'price': 3203, 'name': 'Something Melty This Way Comes,  Part 7', 'media': 'painting', 'id': 'painting744'}}]\n",
      "[{'n': {'year': 2021, 'image_url': 'https://d7hftxdivxxvm.cloudfront.net?resize_to=fit&width=673&height=800&quality=80&src=https%3A%2F%2Fd32dm0rphc51dk.cloudfront.net%2FXlYkTONra5OtOLlVw4V_mQ%2Fnormalized.jpg', 'price': 4000, 'name': 'P10-21', 'id': 'painting745', 'media': 'painting'}}]\n",
      "[{'n': {'year': 1999, 'image_url': 'https://d7hftxdivxxvm.cloudfront.net?resize_to=fit&width=800&height=623&quality=80&src=https%3A%2F%2Fd32dm0rphc51dk.cloudfront.net%2FHiN_Maepq4Wxw2dpE0Il2Q%2Fnormalized.jpg', 'price': 59625, 'name': 'BRIANNA', 'id': 'painting748', 'media': 'painting'}}]\n",
      "[{'n': {'year': 2014, 'image_url': 'https://d7hftxdivxxvm.cloudfront.net?resize_to=fit&width=800&height=800&quality=80&src=https%3A%2F%2Fd32dm0rphc51dk.cloudfront.net%2FlJEbWOJ0i6mT1IqZ0pPABg%2Fnormalized.jpg', 'price': 205000, 'name': 'New Eye (We Share Our Chemistry with the Stars)', 'media': 'painting', 'id': 'painting752'}}]\n",
      "[{'n': {'year': 1991, 'image_url': 'https://d7hftxdivxxvm.cloudfront.net?resize_to=fit&width=800&height=650&quality=80&src=https%3A%2F%2Fd32dm0rphc51dk.cloudfront.net%2FZyCM-uO98WzZVGkCyvWUrA%2Fnormalized.jpg', 'price': 90000, 'name': 'Yellow Gold', 'id': 'painting761', 'media': 'painting'}}]\n",
      "[{'n': {'year': 2021, 'image_url': 'https://d7hftxdivxxvm.cloudfront.net?resize_to=fit&width=623&height=800&quality=80&src=https%3A%2F%2Fd32dm0rphc51dk.cloudfront.net%2Fjs86YAPIste8yA9x9zHYkg%2Fnormalized.jpg', 'price': 14560, 'name': 'Portrait of a Gentleman IX', 'media': 'painting', 'id': 'painting762'}}]\n",
      "[{'n': {'year': 2022, 'image_url': 'https://d7hftxdivxxvm.cloudfront.net?resize_to=fit&width=708&height=800&quality=80&src=https%3A%2F%2Fd32dm0rphc51dk.cloudfront.net%2F10Fm-MrGzqVYZDhQcRUj6g%2Fnormalized.jpg', 'price': 6500, 'name': 'Winter Hare', 'id': 'painting764', 'media': 'painting'}}]\n",
      "[{'n': {'year': 2021, 'image_url': 'https://d7hftxdivxxvm.cloudfront.net?resize_to=fit&width=800&height=800&quality=80&src=https%3A%2F%2Fd32dm0rphc51dk.cloudfront.net%2FLbL0q_cxAffSBT4mVtisSQ%2Fnormalized.jpg', 'price': 3900, 'name': 'Eidophone 75', 'id': 'painting775', 'media': 'painting'}}]\n",
      "[{'n': {'year': 2022, 'image_url': 'https://d7hftxdivxxvm.cloudfront.net?resize_to=fit&width=800&height=522&quality=80&src=https%3A%2F%2Fd32dm0rphc51dk.cloudfront.net%2FJDOtThKmgDB50am4fugpSg%2Fnormalized.jpg', 'price': 10600, 'name': 'Everglow', 'id': 'painting777', 'media': 'painting'}}]\n",
      "[{'n': {'year': 1953, 'image_url': 'https://d7hftxdivxxvm.cloudfront.net?resize_to=fit&width=559&height=800&quality=80&src=https%3A%2F%2Fd32dm0rphc51dk.cloudfront.net%2Fh1-5z8QUoH4tmKTQx47YqQ%2Fnormalized.jpg', 'price': 156000, 'name': 'Giocolieri e Cavallo', 'id': 'painting789', 'media': 'painting'}}]\n",
      "[{'n': {'year': 1960, 'image_url': 'https://d7hftxdivxxvm.cloudfront.net?resize_to=fit&width=800&height=669&quality=80&src=https%3A%2F%2Fd32dm0rphc51dk.cloudfront.net%2FX_PaVnaasM31KTaS4JX87w%2Fnormalized.jpg', 'price': 30000, 'name': 'Nude', 'media': 'painting', 'id': 'painting790'}}]\n",
      "[{'n': {'year': 2022, 'image_url': 'https://d7hftxdivxxvm.cloudfront.net?resize_to=fit&width=800&height=800&quality=80&src=https%3A%2F%2Fd32dm0rphc51dk.cloudfront.net%2FE9fLHAwWK1uFWRjGTKGJ9g%2Fnormalized.jpg', 'price': 5000, 'name': 'Corner Yellow 5', 'id': 'painting802', 'media': 'painting'}}]\n",
      "[{'n': {'year': 2022, 'image_url': 'https://d7hftxdivxxvm.cloudfront.net?resize_to=fit&width=800&height=516&quality=80&src=https%3A%2F%2Fd32dm0rphc51dk.cloudfront.net%2FCGgZFqNoPMZ2m3_LeN84mg%2Fnormalized.jpg', 'price': 8800, 'name': 'Their Outrageous Bravery and Their Cheeky Charm (Abstract Painting)', 'media': 'painting', 'id': 'painting804'}}]\n",
      "[{'n': {'year': 1987, 'image_url': 'https://d7hftxdivxxvm.cloudfront.net?resize_to=fit&width=800&height=569&quality=80&src=https%3A%2F%2Fd32dm0rphc51dk.cloudfront.net%2F2qZaaZpVmPP0IX7F70MbhA%2Fnormalized.jpg', 'price': 25000, 'name': 'MB 3', 'media': 'painting', 'id': 'painting811'}}]\n",
      "[{'n': {'year': 2015, 'image_url': 'https://d7hftxdivxxvm.cloudfront.net?resize_to=fit&width=673&height=799&quality=80&src=https%3A%2F%2Fd32dm0rphc51dk.cloudfront.net%2FjGjPX6ZI8eyV75K14I5mnw%2Fnormalized.jpg', 'price': 4000, 'name': 'Synchro P3', 'id': 'painting833', 'media': 'painting'}}]\n",
      "[{'n': {'year': 1991, 'image_url': 'https://d7hftxdivxxvm.cloudfront.net?resize_to=fit&width=600&height=800&quality=80&src=https%3A%2F%2Fd32dm0rphc51dk.cloudfront.net%2FKQRhK2NPA4-d1OZrPSWyOg%2Fnormalized.jpg', 'price': 13200, 'name': 'Dale Chihuly Untitled Ikebana Watercolor Drawing Contemporary Art Painting', 'media': 'painting', 'id': 'painting837'}}]\n",
      "[{'n': {'year': 1993, 'image_url': 'https://d7hftxdivxxvm.cloudfront.net?resize_to=fit&width=628&height=800&quality=80&src=https%3A%2F%2Fd32dm0rphc51dk.cloudfront.net%2F2_wFRKlQGlLRqITzxE6eJg%2Fnormalized.jpg', 'price': 67600, 'name': 'Damas', 'id': 'painting838', 'media': 'painting'}}]\n",
      "[{'n': {'year': 1981, 'image_url': 'https://d7hftxdivxxvm.cloudfront.net?resize_to=fit&width=800&height=590&quality=80&src=https%3A%2F%2Fd32dm0rphc51dk.cloudfront.net%2FHVaE9kgP0igWI5G3yvmMsw%2Fnormalized.jpg', 'price': 18000, 'name': 'Figura y Serpiente', 'id': 'painting840', 'media': 'painting'}}]\n",
      "[{'n': {'year': 2020, 'image_url': 'https://d7hftxdivxxvm.cloudfront.net?resize_to=fit&width=636&height=800&quality=80&src=https%3A%2F%2Fd32dm0rphc51dk.cloudfront.net%2FiauhM0H5i4bp76e5LZH7Vg%2Fnormalized.jpg', 'price': 3640, 'name': 'Flash Back', 'id': 'painting851', 'media': 'painting'}}]\n",
      "[{'n': {'year': 2009, 'image_url': 'https://d7hftxdivxxvm.cloudfront.net?resize_to=fit&width=800&height=800&quality=80&src=https%3A%2F%2Fd32dm0rphc51dk.cloudfront.net%2FRWnc1Dt8RVLeuDXDQN38KA%2Fnormalized.jpg', 'price': 4000, 'name': 'Two-Part Heart Spin Painting', 'media': 'painting', 'id': 'painting854'}}]\n",
      "[{'n': {'year': 2018, 'image_url': 'https://d7hftxdivxxvm.cloudfront.net?resize_to=fit&width=553&height=800&quality=80&src=https%3A%2F%2Fd32dm0rphc51dk.cloudfront.net%2Fuird5WL_Eec1X_zvzNb4dw%2Fnormalized.jpg', 'price': 4160, 'name': 'Pyramide #2', 'id': 'painting871', 'media': 'painting'}}]\n",
      "[{'n': {'year': 1975, 'image_url': 'https://d7hftxdivxxvm.cloudfront.net?resize_to=fit&width=800&height=484&quality=80&src=https%3A%2F%2Fd32dm0rphc51dk.cloudfront.net%2FWN7pGqHPGwIkohOUCtmYBw%2Fnormalized.jpg', 'price': 1800000, 'name': 'Untitled', 'id': 'painting882', 'media': 'painting'}}]\n",
      "[{'n': {'year': 2014, 'image_url': 'https://d7hftxdivxxvm.cloudfront.net?resize_to=fit&width=582&height=800&quality=80&src=https%3A%2F%2Fd32dm0rphc51dk.cloudfront.net%2Fg1SWugusU96hQKqese0aKQ%2Fnormalized.jpg', 'price': 80000, 'name': 'Parallel and Anti Parallel', 'media': 'painting', 'id': 'painting896'}}]\n",
      "[{'n': {'year': 2022, 'image_url': 'https://d7hftxdivxxvm.cloudfront.net?resize_to=fit&width=693&height=800&quality=80&src=https%3A%2F%2Fd32dm0rphc51dk.cloudfront.net%2FlRr8Jn7ZEv8UwndR9HJkcQ%2Fnormalized.jpg', 'price': 6500, 'name': 'Fez', 'media': 'painting', 'id': 'painting904'}}]\n",
      "[{'n': {'year': 2011, 'image_url': 'https://d7hftxdivxxvm.cloudfront.net?resize_to=fit&width=800&height=600&quality=80&src=https%3A%2F%2Fd32dm0rphc51dk.cloudfront.net%2Fcfir4Y5smXKQhhAa7yM8ew%2Fnormalized.jpg', 'price': 15500, 'name': 'Pale Light', 'id': 'painting912', 'media': 'painting'}}]\n",
      "[{'n': {'year': 1960, 'image_url': 'https://d7hftxdivxxvm.cloudfront.net?resize_to=fit&width=644&height=800&quality=80&src=https%3A%2F%2Fd32dm0rphc51dk.cloudfront.net%2FIclV0uK_Uss4Uat7k7j-bQ%2Fnormalized.jpg', 'price': 12000, 'name': 'Muncho', 'id': 'painting916', 'media': 'painting'}}]\n",
      "[{'n': {'year': 1995, 'image_url': 'https://d7hftxdivxxvm.cloudfront.net?resize_to=fit&width=800&height=589&quality=80&src=https%3A%2F%2Fd32dm0rphc51dk.cloudfront.net%2F6P0DYv_DCQ6SZd0GQKX17w%2Fnormalized.jpg', 'price': 3375, 'name': 'COSMIC PROFILE', 'id': 'painting921', 'media': 'painting'}}]\n",
      "[{'n': {'year': 2007, 'image_url': 'https://d7hftxdivxxvm.cloudfront.net?resize_to=fit&width=800&height=462&quality=80&src=https%3A%2F%2Fd32dm0rphc51dk.cloudfront.net%2F-myDi8fbjsO3QW5rnEbNUg%2Fnormalized.jpg', 'price': 468000, 'name': 'Bottle Crash in Venice 18', 'id': 'painting931', 'media': 'painting'}}]\n",
      "[{'n': {'year': 2022, 'image_url': 'https://d7hftxdivxxvm.cloudfront.net?resize_to=fit&width=693&height=800&quality=80&src=https%3A%2F%2Fd32dm0rphc51dk.cloudfront.net%2FlRr8Jn7ZEv8UwndR9HJkcQ%2Fnormalized.jpg', 'price': 6500, 'name': 'Fez', 'media': 'painting', 'id': 'painting934'}}]\n",
      "[{'n': {'year': 1960, 'image_url': 'https://d7hftxdivxxvm.cloudfront.net?resize_to=fit&width=644&height=800&quality=80&src=https%3A%2F%2Fd32dm0rphc51dk.cloudfront.net%2FIclV0uK_Uss4Uat7k7j-bQ%2Fnormalized.jpg', 'price': 12000, 'name': 'Muncho', 'id': 'painting947', 'media': 'painting'}}]\n",
      "[{'n': {'year': 2009, 'image_url': 'https://d7hftxdivxxvm.cloudfront.net?resize_to=fit&width=800&height=800&quality=80&src=https%3A%2F%2Fd32dm0rphc51dk.cloudfront.net%2F4EMfTx79nQBz8nFSdkZh3Q%2Fnormalized.jpg', 'price': 2500, 'name': 'Star Spin Painting', 'id': 'painting968', 'media': 'painting'}}]\n",
      "[{'n': {'year': 2019, 'image_url': 'https://d7hftxdivxxvm.cloudfront.net?resize_to=fit&width=800&height=800&quality=80&src=https%3A%2F%2Fd32dm0rphc51dk.cloudfront.net%2FIfmYX4Aj7V-yTLbRXyulCA%2Fnormalized.jpg', 'price': 3203, 'name': 'Concurrence', 'id': 'painting986', 'media': 'painting'}}]\n",
      "[{'n': {'year': 2020, 'image_url': 'https://d7hftxdivxxvm.cloudfront.net?resize_to=fit&width=598&height=800&quality=80&src=https%3A%2F%2Fd32dm0rphc51dk.cloudfront.net%2FMVgQFO7rjLuk64rwoLIc5Q%2Fnormalized.jpg', 'price': 1800, 'name': 'Stitches', 'id': 'painting1004', 'media': 'painting'}}]\n",
      "[{'n': {'year': 2020, 'image_url': 'https://d7hftxdivxxvm.cloudfront.net?resize_to=fit&width=595&height=800&quality=80&src=https%3A%2F%2Fd32dm0rphc51dk.cloudfront.net%2FNuTew1w7pEC8c53JJDYeoQ%2Fnormalized.jpg', 'price': 3800, 'name': 'Suffocate in Lovely', 'id': 'painting1010', 'media': 'painting'}}]\n",
      "[{'n': {'year': 2011, 'image_url': 'https://d7hftxdivxxvm.cloudfront.net?resize_to=fit&width=800&height=580&quality=80&src=https%3A%2F%2Fd32dm0rphc51dk.cloudfront.net%2FV6D4imG1IZa8-GDNe7IW1A%2Fnormalized.jpg', 'price': 28600, 'name': 'Expressions', 'id': 'painting1011', 'media': 'painting'}}]\n",
      "[{'n': {'year': 1991, 'image_url': 'https://d7hftxdivxxvm.cloudfront.net?resize_to=fit&width=800&height=559&quality=80&src=https%3A%2F%2Fd32dm0rphc51dk.cloudfront.net%2F1yj2cIUCIrkIqYoIguOg-w%2Fnormalized.jpg', 'price': 750000, 'name': 'Pumpkin', 'id': 'painting1024', 'media': 'painting'}}]\n",
      "[{'n': {'year': 2011, 'image_url': 'https://d7hftxdivxxvm.cloudfront.net?resize_to=fit&width=564&height=800&quality=80&src=https%3A%2F%2Fd32dm0rphc51dk.cloudfront.net%2F9IiELp9NwITbNM8aVCHIRQ%2Fnormalized.jpg', 'price': 12000, 'name': 'Spotted Gent', 'id': 'painting1035', 'media': 'painting'}}]\n",
      "[{'n': {'year': 2022, 'image_url': 'https://d7hftxdivxxvm.cloudfront.net?resize_to=fit&width=595&height=800&quality=80&src=https%3A%2F%2Fd32dm0rphc51dk.cloudfront.net%2Fi9g2xu-bFR6bvd0eNxwTfw%2Fnormalized.jpg', 'price': 17000, 'name': 'Single', 'id': 'painting1041', 'media': 'painting'}}]\n",
      "[{'n': {'year': 2012, 'image_url': 'https://d7hftxdivxxvm.cloudfront.net?resize_to=fit&width=800&height=536&quality=80&src=https%3A%2F%2Fd32dm0rphc51dk.cloudfront.net%2FhlpDTEraIooP94__EuhYuQ%2Fnormalized.jpg', 'price': 35000, 'name': 'Last Stand', 'id': 'painting1045', 'media': 'painting'}}]\n",
      "[{'n': {'year': 2022, 'image_url': 'https://d7hftxdivxxvm.cloudfront.net?resize_to=fit&width=614&height=800&quality=80&src=https%3A%2F%2Fd32dm0rphc51dk.cloudfront.net%2FyOdpHnHyM9U0ay6Aoximog%2Fnormalized.jpg', 'price': 9500, 'name': 'Corner Red/White', 'id': 'painting1050', 'media': 'painting'}}]\n",
      "[{'n': {'year': 2000, 'image_url': 'https://d7hftxdivxxvm.cloudfront.net?resize_to=fit&width=800&height=789&quality=80&src=https%3A%2F%2Fd32dm0rphc51dk.cloudfront.net%2FPDT3NxXBpGnpCQCOwWu00A%2Fnormalized.jpg', 'price': 187200, 'name': 'Untitled (Cameo Skull)', 'media': 'painting', 'id': 'painting1053'}}]\n",
      "[{'n': {'year': 2022, 'image_url': 'https://d7hftxdivxxvm.cloudfront.net?resize_to=fit&width=715&height=800&quality=80&src=https%3A%2F%2Fd32dm0rphc51dk.cloudfront.net%2Fyu8qft1Rup_aN23kDQJhfg%2Fnormalized.jpg', 'price': 6500, 'name': 'Mauve', 'id': 'painting1057', 'media': 'painting'}}]\n",
      "[{'n': {'year': 1970, 'image_url': 'https://d7hftxdivxxvm.cloudfront.net?resize_to=fit&width=587&height=800&quality=80&src=https%3A%2F%2Fd32dm0rphc51dk.cloudfront.net%2F4209DE6jzDOXOecoiH6lyA%2Fnormalized.jpg', 'price': 12000, 'name': 'La Carreta', 'id': 'painting1062', 'media': 'painting'}}]\n",
      "[{'n': {'year': 2005, 'image_url': 'https://d7hftxdivxxvm.cloudfront.net?resize_to=fit&width=585&height=800&quality=80&src=https%3A%2F%2Fd32dm0rphc51dk.cloudfront.net%2FzpkGcRPrAy4xu6Ki8Y14iQ%2Fnormalized.jpg', 'price': 7800, 'name': 'Cowgirl', 'id': 'painting1072', 'media': 'painting'}}]\n",
      "[{'n': {'year': 1989, 'image_url': 'https://d7hftxdivxxvm.cloudfront.net?resize_to=fit&width=800&height=800&quality=80&src=https%3A%2F%2Fd32dm0rphc51dk.cloudfront.net%2Fkorwgm0OfJqgbcZu_TLqig%2Fnormalized.jpg', 'price': 1250, 'name': 'Untitled', 'id': 'painting1081', 'media': 'painting'}}]\n",
      "[{'n': {'year': 2021, 'image_url': 'https://d7hftxdivxxvm.cloudfront.net?resize_to=fit&width=632&height=800&quality=80&src=https%3A%2F%2Fd32dm0rphc51dk.cloudfront.net%2FlUuOKxt5mS9hwUmL_mtjpw%2Fnormalized.jpg', 'price': 175000, 'name': 'Red Beret', 'id': 'painting1083', 'media': 'painting'}}]\n",
      "[{'n': {'year': 2015, 'image_url': 'https://d7hftxdivxxvm.cloudfront.net?resize_to=fit&width=588&height=800&quality=80&src=https%3A%2F%2Fd32dm0rphc51dk.cloudfront.net%2FTUanA4R3MyvNS5eoK5_3DQ%2Fnormalized.jpg', 'price': 9500, 'name': 'ABC No Rio', 'id': 'painting1093', 'media': 'painting'}}]\n",
      "[{'n': {'year': 1990, 'image_url': 'https://d7hftxdivxxvm.cloudfront.net?resize_to=fit&width=614&height=800&quality=80&src=https%3A%2F%2Fd32dm0rphc51dk.cloudfront.net%2Fr4fYxZyjZByojisPqdpz2g%2Fnormalized.jpg', 'price': 12000, 'name': '(Opened Mouth Angel with Striped Slats)', 'media': 'painting', 'id': 'painting1096'}}]\n",
      "[{'n': {'year': 2011, 'image_url': 'https://d7hftxdivxxvm.cloudfront.net?resize_to=fit&width=800&height=425&quality=80&src=https%3A%2F%2Fd32dm0rphc51dk.cloudfront.net%2FSCuO21vXdgLDP3Co3xJzyw%2Fnormalized.jpg', 'price': 40000, 'name': 'Cat Eyes', 'id': 'painting1109', 'media': 'painting'}}]\n",
      "[{'n': {'year': 1980, 'image_url': 'https://d7hftxdivxxvm.cloudfront.net?resize_to=fit&width=800&height=797&quality=80&src=https%3A%2F%2Fd32dm0rphc51dk.cloudfront.net%2FfuG7Jx3h-7iKc856MC8lzQ%2Fnormalized.jpg', 'price': 38000, 'name': 'Green Edged Light Red Oxide', 'media': 'painting', 'id': 'painting1110'}}]\n",
      "[{'n': {'year': 2008, 'image_url': 'https://d7hftxdivxxvm.cloudfront.net?resize_to=fit&width=780&height=800&quality=80&src=https%3A%2F%2Fd32dm0rphc51dk.cloudfront.net%2F3SUULYqgqGJgmh5kftl01A%2Fnormalized.jpg', 'price': 8112, 'name': 'The Hand / The Return”', 'media': 'painting', 'id': 'painting1112'}}]\n",
      "[{'n': {'year': 1955, 'image_url': 'https://d7hftxdivxxvm.cloudfront.net?resize_to=fit&width=800&height=798&quality=80&src=https%3A%2F%2Fd32dm0rphc51dk.cloudfront.net%2F8Gzctb8PRoVQAfAF7f6K5Q%2Fnormalized.jpg', 'price': 580000, 'name': 'Cornucopia', 'id': 'painting1120', 'media': 'painting'}}]\n",
      "[{'n': {'year': 2020, 'image_url': 'https://d7hftxdivxxvm.cloudfront.net?resize_to=fit&width=800&height=537&quality=80&src=https%3A%2F%2Fd32dm0rphc51dk.cloudfront.net%2FpJng5b29xXRnCAS3wYW83Q%2Fnormalized.jpg', 'price': 14000, 'name': 'Bitter Blue', 'id': 'painting1131', 'media': 'painting'}}]\n",
      "[{'n': {'year': 2009, 'image_url': 'https://d7hftxdivxxvm.cloudfront.net?resize_to=fit&width=799&height=800&quality=80&src=https%3A%2F%2Fd32dm0rphc51dk.cloudfront.net%2FXES7LU_JMrFGG-JhMzOYUQ%2Fnormalized.jpg', 'price': 4000, 'name': 'Signed Butterfly Spin Painting', 'media': 'painting', 'id': 'painting1137'}}]\n",
      "[{'n': {'year': 2020, 'image_url': 'https://d7hftxdivxxvm.cloudfront.net?resize_to=fit&width=674&height=800&quality=80&src=https%3A%2F%2Fd32dm0rphc51dk.cloudfront.net%2FGODl0PSc2rSXU6U-a5Xnmw%2Fnormalized.jpg', 'price': 3800, 'name': 'Breathe Heavy', 'id': 'painting1148', 'media': 'painting'}}]\n",
      "[{'n': {'year': 1987, 'image_url': 'https://d7hftxdivxxvm.cloudfront.net?resize_to=fit&width=800&height=608&quality=80&src=https%3A%2F%2Fd32dm0rphc51dk.cloudfront.net%2FuVqphNBl9mi95KltMkvEPg%2Fnormalized.jpg', 'price': 240000, 'name': 'Aesthetic Union', 'id': 'painting1180', 'media': 'painting'}}]\n",
      "[{'n': {'year': 2022, 'image_url': 'https://d7hftxdivxxvm.cloudfront.net?resize_to=fit&width=652&height=800&quality=80&src=https%3A%2F%2Fd32dm0rphc51dk.cloudfront.net%2FdFgpm6o_L3cJQtPLyuf9LQ%2Fnormalized.jpg', 'price': 6500, 'name': 'Blue Diamond', 'id': 'painting1183', 'media': 'painting'}}]\n",
      "[{'n': {'year': 2010, 'image_url': 'https://d7hftxdivxxvm.cloudfront.net?resize_to=fit&width=800&height=595&quality=80&src=https%3A%2F%2Fd32dm0rphc51dk.cloudfront.net%2FRGF6Qmnq0rfwFouN9IFvIQ%2Fnormalized.jpg', 'price': 13520, 'name': 'without title', 'id': 'painting1190', 'media': 'painting'}}]\n",
      "[{'n': {'year': 2014, 'image_url': 'https://d7hftxdivxxvm.cloudfront.net?resize_to=fit&width=800&height=594&quality=80&src=https%3A%2F%2Fd32dm0rphc51dk.cloudfront.net%2FpPn2qJrvHmTr8tPo9pbMbw%2Fnormalized.jpg', 'price': 105000, 'name': 'Mycanos', 'id': 'painting1195', 'media': 'painting'}}]\n",
      "[{'n': {'year': 2021, 'image_url': 'https://d7hftxdivxxvm.cloudfront.net?resize_to=fit&width=602&height=800&quality=80&src=https%3A%2F%2Fd32dm0rphc51dk.cloudfront.net%2Flj7zuyp-uAtFpsToLhgtBw%2Fnormalized.jpg', 'price': 4210, 'name': 'Amateur Night', 'id': 'painting1202', 'media': 'painting'}}]\n",
      "[{'n': {'year': 2018, 'image_url': 'https://d7hftxdivxxvm.cloudfront.net?resize_to=fit&width=635&height=800&quality=80&src=https%3A%2F%2Fd32dm0rphc51dk.cloudfront.net%2F6QHY0zGLaK-WRowTfYClLg%2Fnormalized.jpg', 'price': 72000, 'name': 'Untitled', 'id': 'painting1207', 'media': 'painting'}}]\n",
      "[{'n': {'year': 2019, 'image_url': 'https://d7hftxdivxxvm.cloudfront.net?resize_to=fit&width=793&height=800&quality=80&src=https%3A%2F%2Fd32dm0rphc51dk.cloudfront.net%2FUbjpgjWU9j3GkDdcAhKakQ%2Fnormalized.jpg', 'price': 1820, 'name': \"ROBERT WAGNER'S NIGHTMARE - DON’T MESS WITH THE YAKULT\", 'media': 'painting', 'id': 'painting1208'}}]\n",
      "[{'n': {'year': 2022, 'image_url': 'https://d7hftxdivxxvm.cloudfront.net?resize_to=fit&width=800&height=600&quality=80&src=https%3A%2F%2Fd32dm0rphc51dk.cloudfront.net%2F3gJLLZ5QMyrvZcfp5gU2YQ%2Fnormalized.jpg', 'price': 6240, 'name': 'Old School New School', 'id': 'painting1213', 'media': 'painting'}}]\n",
      "[{'n': {'year': 1990, 'image_url': 'https://d7hftxdivxxvm.cloudfront.net?resize_to=fit&width=560&height=800&quality=80&src=https%3A%2F%2Fd32dm0rphc51dk.cloudfront.net%2F9K7VJ0VgOsD-Xh3LswZNqw%2Fnormalized.jpg', 'price': 12000, 'name': '(Angel with Red Carpet)', 'media': 'painting', 'id': 'painting1219'}}]\n",
      "[{'n': {'year': 2013, 'image_url': 'https://d7hftxdivxxvm.cloudfront.net?resize_to=fit&width=800&height=614&quality=80&src=https%3A%2F%2Fd32dm0rphc51dk.cloudfront.net%2FnM6-MboL3TAc_1nBPqsuYQ%2Fnormalized.jpg', 'price': 4888, 'name': 'NEW LOVE PLAN #17', 'id': 'painting1225', 'media': 'painting'}}]\n",
      "[{'n': {'year': 2001, 'image_url': 'https://d7hftxdivxxvm.cloudfront.net?resize_to=fit&width=579&height=800&quality=80&src=https%3A%2F%2Fd32dm0rphc51dk.cloudfront.net%2FY2MLmOf_BxTT5m3ARjYtzg%2Fnormalized.jpg', 'price': 25000, 'name': 'Descent', 'id': 'painting1233', 'media': 'painting'}}]\n",
      "[{'n': {'year': 1989, 'image_url': 'https://d7hftxdivxxvm.cloudfront.net?resize_to=fit&width=594&height=800&quality=80&src=https%3A%2F%2Fd32dm0rphc51dk.cloudfront.net%2FSMTNEv2B7FQLIjHbnzOYOA%2Fnormalized.jpg', 'price': 17108, 'name': 'Ice cream 19', 'id': 'painting1238', 'media': 'painting'}}]\n",
      "[{'n': {'year': 2007, 'image_url': 'https://d7hftxdivxxvm.cloudfront.net?resize_to=fit&width=799&height=559&quality=80&src=https%3A%2F%2Fd32dm0rphc51dk.cloudfront.net%2F1Fxglf5SJQFd4vEbRHVPWA%2Fnormalized.jpg', 'price': 2516, 'name': 'Baby Moll', 'id': 'painting1245', 'media': 'painting'}}]\n",
      "[{'n': {'year': 2022, 'image_url': 'https://d7hftxdivxxvm.cloudfront.net?resize_to=fit&width=800&height=584&quality=80&src=https%3A%2F%2Fd32dm0rphc51dk.cloudfront.net%2FvRcbiIJOJ_4pbXzLDSTZ_Q%2Fnormalized.jpg', 'price': 15080, 'name': 'The Currency - Last Night I Walked Inside', 'media': 'painting', 'id': 'painting1249'}}]\n",
      "[{'n': {'year': 2021, 'image_url': 'https://d7hftxdivxxvm.cloudfront.net?resize_to=fit&width=800&height=588&quality=80&src=https%3A%2F%2Fd32dm0rphc51dk.cloudfront.net%2Fp4XjXMquzrDqamp14voJjQ%2Fnormalized.jpg', 'price': 1000, 'name': 'La Luz 13, Painting', 'id': 'painting1251', 'media': 'painting'}}]\n",
      "[{'n': {'year': 1975, 'image_url': 'https://d7hftxdivxxvm.cloudfront.net?resize_to=fit&width=800&height=493&quality=80&src=https%3A%2F%2Fd32dm0rphc51dk.cloudfront.net%2FPTPadEiC3fxlbElhPe3elw%2Fnormalized.jpg', 'price': 3895, 'name': 'The Knight', 'id': 'painting1253', 'media': 'painting'}}]\n",
      "[{'n': {'year': 2000, 'image_url': 'https://d7hftxdivxxvm.cloudfront.net?resize_to=fit&width=799&height=565&quality=80&src=https%3A%2F%2Fd32dm0rphc51dk.cloudfront.net%2FgGmknVXGmOLq4iWfExp2ow%2Fnormalized.jpg', 'price': 187200, 'name': 'Untitled (Cameo Skull)', 'media': 'painting', 'id': 'painting1258'}}]\n",
      "[{'n': {'year': 2012, 'image_url': 'https://d7hftxdivxxvm.cloudfront.net?resize_to=fit&width=640&height=800&quality=80&src=https%3A%2F%2Fd32dm0rphc51dk.cloudfront.net%2Fo266saCP0CeMtunFlGUhNw%2Fnormalized.jpg', 'price': 6250, 'name': 'Hours of Darkness, Hours of Light XII', 'media': 'painting', 'id': 'painting1273'}}]\n",
      "[{'n': {'year': 1899, 'image_url': 'https://d7hftxdivxxvm.cloudfront.net?resize_to=fit&width=800&height=675&quality=80&src=https%3A%2F%2Fd32dm0rphc51dk.cloudfront.net%2FDB4TuM5p71KrUYoArCCw-A%2Fnormalized.jpg', 'price': 1300000, 'name': 'La Baie de Villefranche-sur-Mer', 'media': 'painting', 'id': 'painting1282'}}]\n",
      "[{'n': {'year': 2022, 'image_url': 'https://d7hftxdivxxvm.cloudfront.net?resize_to=fit&width=617&height=800&quality=80&src=https%3A%2F%2Fd32dm0rphc51dk.cloudfront.net%2Frgju20VwRazQtKTzQMhybg%2Fnormalized.jpg', 'price': 9000, 'name': 'Two East Lake', 'id': 'painting1283', 'media': 'painting'}}]\n",
      "[{'n': {'year': 2021, 'image_url': 'https://d7hftxdivxxvm.cloudfront.net?resize_to=fit&width=800&height=603&quality=80&src=https%3A%2F%2Fd32dm0rphc51dk.cloudfront.net%2FINA8t26Zh4g_SVjQaUdNUw%2Fnormalized.jpg', 'price': 1000, 'name': 'La Luz 9, Painting', 'id': 'painting1286', 'media': 'painting'}}]\n",
      "[{'n': {'year': 1970, 'image_url': 'https://d7hftxdivxxvm.cloudfront.net?resize_to=fit&width=800&height=489&quality=80&src=https%3A%2F%2Fd32dm0rphc51dk.cloudfront.net%2FCJSkzYTbZ6x_0PqHxfrZAw%2Fnormalized.jpg', 'price': 6500, 'name': 'Black Whole', 'id': 'painting1289', 'media': 'painting'}}]\n",
      "[{'n': {'year': 2005, 'image_url': 'https://d7hftxdivxxvm.cloudfront.net?resize_to=fit&width=800&height=196&quality=80&src=https%3A%2F%2Fd32dm0rphc51dk.cloudfront.net%2FvNkV8VcMUZRkl2KMlt_FLw%2Fnormalized.jpg', 'price': 70000, 'name': 'Cross - Town Rivals', 'id': 'painting1296', 'media': 'painting'}}]\n",
      "[{'n': {'year': 2022, 'image_url': 'https://d7hftxdivxxvm.cloudfront.net?resize_to=fit&width=800&height=283&quality=80&src=https%3A%2F%2Fd32dm0rphc51dk.cloudfront.net%2FWzm0jOMKF2DCKF88iVAScg%2Fnormalized.jpg', 'price': 5400, 'name': 'Cliffs', 'id': 'painting1304', 'media': 'painting'}}]\n",
      "[{'n': {'year': 1995, 'image_url': 'https://d7hftxdivxxvm.cloudfront.net?resize_to=fit&width=566&height=800&quality=80&src=https%3A%2F%2Fd32dm0rphc51dk.cloudfront.net%2FTSmH-iL1DNCc5rirIr-SOA%2Fnormalized.jpg', 'price': 4500, 'name': 'FINAL VOYAGE', 'id': 'painting1306', 'media': 'painting'}}]\n",
      "[{'n': {'year': 1937, 'image_url': 'https://d7hftxdivxxvm.cloudfront.net?resize_to=fit&width=701&height=800&quality=80&src=https%3A%2F%2Fd32dm0rphc51dk.cloudfront.net%2FoAThojlxmSiJH6Ernn5QEg%2Fnormalized.jpg', 'price': 19000, 'name': '[Bruce Sargeant (1898-1938)] River Scene with Seven Rowers', 'media': 'painting', 'id': 'painting1328'}}]\n",
      "[{'n': {'year': 1985, 'image_url': 'https://d7hftxdivxxvm.cloudfront.net?resize_to=fit&width=800&height=578&quality=80&src=https%3A%2F%2Fd32dm0rphc51dk.cloudfront.net%2F0654RoKsb8gBcPeyY_HGcw%2Fnormalized.jpg', 'price': 40560, 'name': 'T/T/R', 'media': 'painting', 'id': 'painting1332'}}]\n",
      "[{'n': {'year': 2018, 'image_url': 'https://d7hftxdivxxvm.cloudfront.net?resize_to=fit&width=622&height=800&quality=80&src=https%3A%2F%2Fd32dm0rphc51dk.cloudfront.net%2FAGgmGxPqpXE_bTbpFHXBXw%2Fnormalized.jpg', 'price': 35000, 'name': 'Isabella 4', 'id': 'painting1334', 'media': 'painting'}}]\n",
      "[{'n': {'year': 2022, 'image_url': 'https://d7hftxdivxxvm.cloudfront.net?resize_to=fit&width=800&height=533&quality=80&src=https%3A%2F%2Fd32dm0rphc51dk.cloudfront.net%2FLZ5Nq5406DE8rIn6Zr2_yw%2Fnormalized.jpg', 'price': 20000, 'name': 'Veil 8', 'id': 'painting1335', 'media': 'painting'}}]\n"
     ]
    }
   ],
   "source": [
    "driver = GraphDatabase.driver(\"neo4j+s://39d587d1.databases.neo4j.io\", auth=(\"neo4j\", \"SwH_uBibcZOdqS-aH2dg6n2qtfXMbfCaVozFwEoy3H4\"))\n",
    "with driver.session() as session:\n",
    "    for query in query_list:\n",
    "        results = session.run(query).data()\n",
    "        print(results)"
   ]
  },
  {
   "cell_type": "code",
   "execution_count": null,
   "metadata": {},
   "outputs": [],
   "source": []
  }
 ],
 "metadata": {
  "kernelspec": {
   "display_name": "Python 3.10.6 ('2022F')",
   "language": "python",
   "name": "python3"
  },
  "language_info": {
   "codemirror_mode": {
    "name": "ipython",
    "version": 3
   },
   "file_extension": ".py",
   "mimetype": "text/x-python",
   "name": "python",
   "nbconvert_exporter": "python",
   "pygments_lexer": "ipython3",
   "version": "3.10.6"
  },
  "orig_nbformat": 4,
  "vscode": {
   "interpreter": {
    "hash": "61f7b514d9cc7cfd4c2bdeba98a7dc160e7ee2f2c538f44fe6a7beea60d43dd4"
   }
  }
 },
 "nbformat": 4,
 "nbformat_minor": 2
}
