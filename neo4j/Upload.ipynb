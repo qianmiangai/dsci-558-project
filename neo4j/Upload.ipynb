{
 "cells": [
  {
   "cell_type": "code",
   "execution_count": 61,
   "metadata": {},
   "outputs": [],
   "source": [
    "from graphdatascience import GraphDataScience\n",
    "import pandas as pd\n",
    "from py2neo import Node, Graph, Relationship,NodeMatcher\n",
    "import math\n",
    "from neo4j import GraphDatabase"
   ]
  },
  {
   "cell_type": "code",
   "execution_count": 62,
   "metadata": {},
   "outputs": [],
   "source": [
    "df = pd.read_csv(\"../FinalDataSetCreation/FinalDataset_with_all.csv\")\n",
    "neo_df = df.drop(['url', 'artist_url', 'media_long','dimension','bid','full_bio'],axis = 1)\n",
    "neo_df.to_csv(\"neo4j_data.csv\")\n",
    "neo_df['color_group1'] = neo_df['color_group1'].astype('Int64')\n",
    "neo_df['color_group2'] = neo_df['color_group2'].astype('Int64')\n",
    "neo_df['color_group3'] = neo_df['color_group3'].astype('Int64')\n",
    "neo_df['color_group4'] = neo_df['color_group4'].astype('Int64')"
   ]
  },
  {
   "cell_type": "code",
   "execution_count": 63,
   "metadata": {},
   "outputs": [
    {
     "data": {
      "text/plain": [
       "'df = pd.read_csv(\"../5_InstagramFinder/FinalDataSet.csv\")\\nartist_df = df[[\\'gallery_name\\']]\\nlen(artist_df.drop_duplicates())\\n'"
      ]
     },
     "execution_count": 63,
     "metadata": {},
     "output_type": "execute_result"
    }
   ],
   "source": [
    "\"\"\"df = pd.read_csv(\"../5_InstagramFinder/FinalDataSet.csv\")\n",
    "artist_df = df[['gallery_name']]\n",
    "len(artist_df.drop_duplicates())\n",
    "\"\"\""
   ]
  },
  {
   "cell_type": "code",
   "execution_count": 64,
   "metadata": {},
   "outputs": [
    {
     "data": {
      "text/html": [
       "<div>\n",
       "<style scoped>\n",
       "    .dataframe tbody tr th:only-of-type {\n",
       "        vertical-align: middle;\n",
       "    }\n",
       "\n",
       "    .dataframe tbody tr th {\n",
       "        vertical-align: top;\n",
       "    }\n",
       "\n",
       "    .dataframe thead th {\n",
       "        text-align: right;\n",
       "    }\n",
       "</style>\n",
       "<table border=\"1\" class=\"dataframe\">\n",
       "  <thead>\n",
       "    <tr style=\"text-align: right;\">\n",
       "      <th></th>\n",
       "      <th>id</th>\n",
       "      <th>gallery_url</th>\n",
       "    </tr>\n",
       "  </thead>\n",
       "  <tbody>\n",
       "    <tr>\n",
       "      <th>0</th>\n",
       "      <td>painting15</td>\n",
       "      <td>https://www.artsy.net/partner/corridor-contemp...</td>\n",
       "    </tr>\n",
       "    <tr>\n",
       "      <th>1</th>\n",
       "      <td>prints369</td>\n",
       "      <td>https://www.artsy.net/partner/pinto-gallery</td>\n",
       "    </tr>\n",
       "    <tr>\n",
       "      <th>2</th>\n",
       "      <td>prints826</td>\n",
       "      <td>https://www.artsy.net/partner/modclair</td>\n",
       "    </tr>\n",
       "    <tr>\n",
       "      <th>3</th>\n",
       "      <td>photography133</td>\n",
       "      <td>https://www.artsy.net/auction/heritage-urban-a...</td>\n",
       "    </tr>\n",
       "    <tr>\n",
       "      <th>4</th>\n",
       "      <td>painting37</td>\n",
       "      <td>https://www.artsy.net/partner/maddox-gallery</td>\n",
       "    </tr>\n",
       "    <tr>\n",
       "      <th>...</th>\n",
       "      <td>...</td>\n",
       "      <td>...</td>\n",
       "    </tr>\n",
       "    <tr>\n",
       "      <th>2474</th>\n",
       "      <td>design1182</td>\n",
       "      <td>https://www.artsy.net/partner/fortes-daloia-an...</td>\n",
       "    </tr>\n",
       "    <tr>\n",
       "      <th>2475</th>\n",
       "      <td>design1269</td>\n",
       "      <td>https://www.artsy.net/partner/paradisoterrestre</td>\n",
       "    </tr>\n",
       "    <tr>\n",
       "      <th>2476</th>\n",
       "      <td>design1278</td>\n",
       "      <td>https://www.artsy.net/partner/lions-gallery</td>\n",
       "    </tr>\n",
       "    <tr>\n",
       "      <th>2477</th>\n",
       "      <td>design1440</td>\n",
       "      <td>https://www.artsy.net/partner/alpha-137-gallery</td>\n",
       "    </tr>\n",
       "    <tr>\n",
       "      <th>2478</th>\n",
       "      <td>design1453</td>\n",
       "      <td>https://www.artsy.net/partner/gokelaere-and-ro...</td>\n",
       "    </tr>\n",
       "  </tbody>\n",
       "</table>\n",
       "<p>2479 rows × 2 columns</p>\n",
       "</div>"
      ],
      "text/plain": [
       "                  id                                        gallery_url\n",
       "0         painting15  https://www.artsy.net/partner/corridor-contemp...\n",
       "1          prints369        https://www.artsy.net/partner/pinto-gallery\n",
       "2          prints826             https://www.artsy.net/partner/modclair\n",
       "3     photography133  https://www.artsy.net/auction/heritage-urban-a...\n",
       "4         painting37       https://www.artsy.net/partner/maddox-gallery\n",
       "...              ...                                                ...\n",
       "2474      design1182  https://www.artsy.net/partner/fortes-daloia-an...\n",
       "2475      design1269    https://www.artsy.net/partner/paradisoterrestre\n",
       "2476      design1278        https://www.artsy.net/partner/lions-gallery\n",
       "2477      design1440    https://www.artsy.net/partner/alpha-137-gallery\n",
       "2478      design1453  https://www.artsy.net/partner/gokelaere-and-ro...\n",
       "\n",
       "[2479 rows x 2 columns]"
      ]
     },
     "execution_count": 64,
     "metadata": {},
     "output_type": "execute_result"
    }
   ],
   "source": [
    "#gqm: for further location (location of gallery) scraping\n",
    "df[['id','gallery_url']]"
   ]
  },
  {
   "cell_type": "code",
   "execution_count": 65,
   "metadata": {},
   "outputs": [
    {
     "data": {
      "text/plain": [
       "Index(['Unnamed: 0', 'id', 'media', 'artist_name', 'work_name', 'work_year',\n",
       "       'gallery_name', 'gallery_url', 'price', 'img_url', 'artist_website',\n",
       "       'artist_ins', 'nationality', 'education', 'location', 'color1',\n",
       "       'color2', 'color3', 'color4', 'color_group1', 'color_group2',\n",
       "       'color_group3', 'color_group4', 'class', 'artist_style'],\n",
       "      dtype='object')"
      ]
     },
     "execution_count": 65,
     "metadata": {},
     "output_type": "execute_result"
    }
   ],
   "source": [
    "neo_df.columns"
   ]
  },
  {
   "cell_type": "code",
   "execution_count": 66,
   "metadata": {},
   "outputs": [
    {
     "name": "stdout",
     "output_type": "stream",
     "text": [
      "1990\n"
     ]
    }
   ],
   "source": [
    "#add color node\n",
    "color_df = neo_df[['id','color_group1','color_group2','color_group3','color_group4']]\n",
    "color_list = list(range(1000))\n",
    "color_dict = {}\n",
    "for i in range(len(color_df)):\n",
    "    if not pd.isna(list(color_df.iloc[i])[1]):\n",
    "        color_dict[list(color_df.iloc[i])[0]] = list(color_df.iloc[i])[1:]\n",
    "print(len(color_dict))\n"
   ]
  },
  {
   "cell_type": "code",
   "execution_count": 67,
   "metadata": {},
   "outputs": [
    {
     "name": "stderr",
     "output_type": "stream",
     "text": [
      "/var/folders/2p/2p_g91q95gj9px5nbxvkbw3h0000gn/T/ipykernel_37799/920841734.py:3: SettingWithCopyWarning: \n",
      "A value is trying to be set on a copy of a slice from a DataFrame\n",
      "\n",
      "See the caveats in the documentation: https://pandas.pydata.org/pandas-docs/stable/user_guide/indexing.html#returning-a-view-versus-a-copy\n",
      "  artist_df.fillna('', inplace=True)\n"
     ]
    }
   ],
   "source": [
    "#add artist node\n",
    "artist_df = neo_df[['artist_name','artist_website','artist_ins','nationality','education','location','artist_style']]\n",
    "artist_df.fillna('', inplace=True)\n",
    "artist_list = []\n",
    "for i in range(len(artist_df)):\n",
    "    artist_list.append(list(artist_df.iloc[i]))\n",
    "temp= []\n",
    "[temp.append(i) for i in artist_list if not i in temp]\n",
    "artist_list = temp\n"
   ]
  },
  {
   "cell_type": "code",
   "execution_count": 68,
   "metadata": {},
   "outputs": [],
   "source": [
    "#add work node\n",
    "work_df = neo_df[['id','media','artist_name','work_name','work_year','price']]\n",
    "work_list = []\n",
    "for i in range(len(work_df)):\n",
    "    work_list.append(list(work_df.iloc[i]))\n",
    "temp= []\n",
    "[temp.append(i) for i in work_list if not i in temp]\n",
    "work_list = temp"
   ]
  },
  {
   "cell_type": "code",
   "execution_count": 69,
   "metadata": {},
   "outputs": [],
   "source": [
    "#add gallery node\n",
    "gallery_df = neo_df[['gallery_name', \"gallery_url\",'artist_name','id']]\n",
    "gallery_list = []\n",
    "for i in range(len(gallery_df)):\n",
    "    gallery_list.append(list(gallery_df.iloc[i]))\n",
    "temp= []\n",
    "[temp.append(i) for i in gallery_list if not i in temp]\n",
    "gallery_list = temp"
   ]
  },
  {
   "cell_type": "code",
   "execution_count": 70,
   "metadata": {},
   "outputs": [],
   "source": [
    "#add stype node:\n",
    "style_df = neo_df[['id','class']]\n",
    "style_list = []\n",
    "for i in range(len(style_df)):\n",
    "    if not pd.isna(list(style_df.iloc[i])[1]):\n",
    "        style_list.append(list(style_df.iloc[i]))\n",
    "temp= []\n",
    "[temp.append(i) for i in style_list if not i in temp]\n",
    "style_list = temp\n",
    "\n"
   ]
  },
  {
   "cell_type": "code",
   "execution_count": 71,
   "metadata": {},
   "outputs": [],
   "source": [
    "# Aura queries use an encrypted connection using the \"neo4j+s\" URI scheme\n",
    "uri = \"neo4j+s://c3ee616d.databases.neo4j.io\"\n",
    "user = \"neo4j\"\n",
    "password = \"St86fqcQ_5dsFw1-yd5xhBrXCbaBJowigJpjavydUu0\"\n",
    "#graph = Graph(uri, auth=(user, password), routing=True)\n",
    "graph = Graph(\"bolt://localhost:7687\", auth=(\"neo4j\", \"myneo4j\"))"
   ]
  },
  {
   "cell_type": "code",
   "execution_count": 72,
   "metadata": {},
   "outputs": [
    {
     "name": "stdout",
     "output_type": "stream",
     "text": [
      "['Hebru Brantley', 'www.hebrubrantley.com', 'https://www.instagram.com/hebrubrantley/?hl=en', 'Japanese', 'Clark Atlanta University', 'Chicago', 'post-minimalism']\n"
     ]
    }
   ],
   "source": [
    "for i in artist_list:\n",
    "    print(i)\n",
    "    break"
   ]
  },
  {
   "cell_type": "code",
   "execution_count": 73,
   "metadata": {},
   "outputs": [],
   "source": [
    "artist_nodes = {}\n",
    "for i in artist_list:\n",
    "    name = i[0]\n",
    "    web = i[1]\n",
    "    ins = i[2]\n",
    "    nationality = i[3]\n",
    "    education = i[4]\n",
    "    location = i[5]\n",
    "    artist_nodes[name] = Node(\"Artist\", name = name)\n",
    "    if web:\n",
    "        artist_nodes[name]['website'] = web\n",
    "    if ins:\n",
    "        artist_nodes[name]['ins'] = ins\n",
    "    if nationality:\n",
    "        artist_nodes[name]['nationality'] = nationality\n",
    "    if location:\n",
    "        artist_nodes[name]['location'] = location"
   ]
  },
  {
   "cell_type": "code",
   "execution_count": 74,
   "metadata": {},
   "outputs": [],
   "source": [
    "work_nodes = {}\n",
    "artist_work_rel = {}\n",
    "for i in work_list:\n",
    "    work_id = i[0]\n",
    "    media = i[1]\n",
    "    artist = i[2]\n",
    "    name = i[3]\n",
    "    year = int(i[4])\n",
    "    price = int(i[5])\n",
    "    work_nodes[work_id] = Node(\"Artork\", id = work_id, media = media, name = name, year = year, price = price)\n",
    "    #Relationship(LillyW, \"DIRECTED\", TheMatrix)\n",
    "    artist_work_rel[artist+work_id] = Relationship(artist_nodes[artist], \"CREATED\", work_nodes[work_id])\n"
   ]
  },
  {
   "cell_type": "code",
   "execution_count": 75,
   "metadata": {},
   "outputs": [],
   "source": [
    "gallery_nodes = {}\n",
    "artist_gallery_rel = {}\n",
    "gallery_work_rel = {}\n",
    "already = set()\n",
    "for i in gallery_list:\n",
    "    gallery_name = i[0]\n",
    "    gallery_website = i[1]\n",
    "    artist = i[2]\n",
    "    work = i[3]\n",
    "    if gallery_name not in already:\n",
    "        already.add(gallery_name)\n",
    "        gallery_nodes[gallery_name] = Node(\"Gallery\", name = gallery_name, website = gallery_website)\n",
    "    #Relationship(LillyW, \"DIRECTED\", TheMatrix)\n",
    "    if artist+gallery_name not in artist_gallery_rel:\n",
    "        artist_gallery_rel[artist+gallery_name] = Relationship(artist_nodes[artist], \"HASWORK\", gallery_nodes[gallery_name])\n",
    "    gallery_work_rel[work+gallery_name] = Relationship(work_nodes[work], \"DISPLAY\", gallery_nodes[gallery_name])"
   ]
  },
  {
   "cell_type": "code",
   "execution_count": 76,
   "metadata": {},
   "outputs": [],
   "source": [
    "style_nodes = {}\n",
    "style_work_rel = {}\n",
    "\n",
    "style_types = set([x[1] for x in style_list])\n",
    "for i in style_types:\n",
    "    style_nodes[i] = Node(\"Style\", name = i)\n",
    "\n",
    "for i in style_list:\n",
    "   \n",
    "    style_name = i[1]\n",
    "    work = i[0]\n",
    "    #print(style_name, work)\n",
    "    style_work_rel[style_name+work] = Relationship(work_nodes[work], \"HASSTYLE\", style_nodes[style_name])"
   ]
  },
  {
   "cell_type": "code",
   "execution_count": 77,
   "metadata": {},
   "outputs": [],
   "source": [
    "color_nodes = {}\n",
    "work_color_rel = {}\n",
    "\n",
    "for i in color_list:\n",
    "    color_nodes[i] = Node(\"Color\", name = i)\n",
    "\n",
    "for i in color_dict.keys():\n",
    "   \n",
    "    work = i\n",
    "    colors = color_dict[work]\n",
    "    \n",
    "    for col in colors:\n",
    "        if col == -1:\n",
    "            pass\n",
    "        else:\n",
    "            work_color_rel[work+str(col)] = Relationship(work_nodes[work], \"HASCOLOR\", color_nodes[col])\n"
   ]
  },
  {
   "cell_type": "code",
   "execution_count": 78,
   "metadata": {},
   "outputs": [],
   "source": [
    "same_gallery_rel = []\n",
    "\n",
    "gallery_artist = {}\n",
    "for i in gallery_list:\n",
    "    gallery_name = i[0]\n",
    "    artist = i[2]\n",
    "    if gallery_name in gallery_artist:\n",
    "        gallery_artist[gallery_name].append(artist_nodes[artist])\n",
    "    else:\n",
    "        gallery_artist[gallery_name] = [artist_nodes[artist]]\n",
    "\n",
    "for test_list in gallery_artist.values():\n",
    "    temp = [[a, b] for idx, a in enumerate(test_list) for b in test_list[idx + 1:]]\n",
    "    for [a,b] in temp:\n",
    "        same_gallery_rel.append(Relationship(a, \"SAMEGALLERY\", b))\n"
   ]
  },
  {
   "cell_type": "code",
   "execution_count": 79,
   "metadata": {},
   "outputs": [],
   "source": [
    "artist_style_rel = []\n",
    "for i in artist_list:\n",
    "    artist = i[0]\n",
    "    style = i[-1]\n",
    "    if style != 'no distinct style':\n",
    "        artist_style_rel.append(Relationship(artist_nodes[artist],\"HASSTYLE\",style_nodes[style]))\n"
   ]
  },
  {
   "cell_type": "code",
   "execution_count": 80,
   "metadata": {},
   "outputs": [
    {
     "name": "stdout",
     "output_type": "stream",
     "text": [
      "497\n",
      "artist_nodes done\n",
      "2479\n",
      "work_nodes done\n",
      "2479\n",
      " artist_work_rel\n",
      "496\n",
      "gallery_nodes done\n",
      "1255\n",
      " artist_gallery_rel\n",
      "2479\n",
      "gallery_work_rel\n",
      "11\n",
      "style_nodes done\n",
      "492\n",
      "artist_style_rel\n",
      "2435\n",
      "style_work_rel  done\n",
      "1000\n",
      "color_nodes done\n",
      "7878\n",
      " work_color_rel\n"
     ]
    }
   ],
   "source": [
    "tx = graph.begin()\n",
    "\n",
    "print(len(artist_nodes))\n",
    "for i in artist_nodes.values():\n",
    "    tx.create(i)\n",
    "print(\"artist_nodes done\")\n",
    "\n",
    "print(len(work_nodes))\n",
    "for i in work_nodes.values():\n",
    "    tx.create(i)\n",
    "print(\"work_nodes done\")\n",
    "\n",
    "print(len(artist_work_rel))\n",
    "for i in artist_work_rel.values():\n",
    "    tx.create(i)\n",
    "print(\" artist_work_rel\")\n",
    "\n",
    "print(len(gallery_nodes))\n",
    "for i in gallery_nodes.values():\n",
    "    tx.create(i)\n",
    "print(\"gallery_nodes done\")\n",
    "\n",
    "print(len(artist_gallery_rel))\n",
    "for i in artist_gallery_rel.values():\n",
    "    tx.create(i)\n",
    "print(\" artist_gallery_rel\")\n",
    "\n",
    "print(len(gallery_work_rel))\n",
    "for i in gallery_work_rel.values():\n",
    "    tx.create(i)\n",
    "print(\"gallery_work_rel\")\n",
    "\n",
    "print(len(style_nodes))\n",
    "for i in style_nodes.values():\n",
    "    tx.create(i)\n",
    "print(\"style_nodes done\")\n",
    "\n",
    "print(len(artist_style_rel))\n",
    "for i in artist_style_rel:\n",
    "    tx.create(i)\n",
    "print(\"artist_style_rel\")\n",
    "\n",
    "print(len(style_work_rel))\n",
    "for i in style_work_rel.values():\n",
    "    tx.create(i)\n",
    "print(\"style_work_rel  done\")\n",
    "\n",
    "print(len(color_nodes))\n",
    "for i in color_nodes.values():\n",
    "    tx.create(i)\n",
    "print(\"color_nodes done\")\n",
    "\n",
    "print(len(work_color_rel))\n",
    "for i in work_color_rel.values():\n",
    "    tx.create(i)\n",
    "print(\" work_color_rel\")\n",
    "\n",
    "graph.commit(tx)\n"
   ]
  },
  {
   "cell_type": "markdown",
   "metadata": {},
   "source": []
  },
  {
   "cell_type": "code",
   "execution_count": 84,
   "metadata": {},
   "outputs": [],
   "source": [
    "#get img list\n",
    "img_df = neo_df[['id','img_url']]\n",
    "img_list = []\n",
    "for i in range(len(img_df)):\n",
    "    img_list.append(list(img_df.iloc[i]))\n",
    "temp= []\n",
    "[temp.append(i) for i in img_list if not i in temp]\n",
    "img_list = temp"
   ]
  },
  {
   "cell_type": "code",
   "execution_count": 85,
   "metadata": {},
   "outputs": [],
   "source": [
    "query_list = []\n",
    "for i in img_list:\n",
    "    query = 'MATCH (n:Artork) WHERE n.id = \"{}\" SET n.image_url = \"{}\" RETURN n'.format(i[0],i[1])\n",
    "    query_list.append(query)"
   ]
  },
  {
   "cell_type": "code",
   "execution_count": null,
   "metadata": {},
   "outputs": [],
   "source": []
  }
 ],
 "metadata": {
  "kernelspec": {
   "display_name": "Python 3.10.6 ('2022F')",
   "language": "python",
   "name": "python3"
  },
  "language_info": {
   "codemirror_mode": {
    "name": "ipython",
    "version": 3
   },
   "file_extension": ".py",
   "mimetype": "text/x-python",
   "name": "python",
   "nbconvert_exporter": "python",
   "pygments_lexer": "ipython3",
   "version": "3.10.6"
  },
  "orig_nbformat": 4,
  "vscode": {
   "interpreter": {
    "hash": "61f7b514d9cc7cfd4c2bdeba98a7dc160e7ee2f2c538f44fe6a7beea60d43dd4"
   }
  }
 },
 "nbformat": 4,
 "nbformat_minor": 2
}
