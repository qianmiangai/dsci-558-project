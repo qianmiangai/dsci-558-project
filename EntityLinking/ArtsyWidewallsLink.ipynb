{
 "cells": [
  {
   "cell_type": "code",
   "execution_count": 20,
   "metadata": {},
   "outputs": [],
   "source": [
    "import rltk\n",
    "import csv\n",
    "tokenizer = rltk.tokenizer.crf_tokenizer.crf_tokenizer.CrfTokenizer()"
   ]
  },
  {
   "cell_type": "code",
   "execution_count": 35,
   "metadata": {},
   "outputs": [],
   "source": [
    "class ArtsyRecord(rltk.Record):\n",
    "    def __init__(self, raw_object):\n",
    "        super().__init__(raw_object)\n",
    "        self.name = ''\n",
    "\n",
    "    @rltk.cached_property\n",
    "    def id(self):\n",
    "        return self.raw_object['id']\n",
    "\n",
    "    @rltk.cached_property\n",
    "    def name_string(self):\n",
    "        return self.raw_object['artist_name']\n",
    "\n",
    "    @rltk.cached_property\n",
    "    def name_tokens(self):\n",
    "        return list(tokenizer.tokenize(self.name_string))\n",
    "\n",
    "class WidewallsRecord(rltk.Record):\n",
    "    def __init__(self, raw_object):\n",
    "        super().__init__(raw_object)\n",
    "        self.name = ''\n",
    "\n",
    "    @rltk.cached_property\n",
    "    def id(self):\n",
    "        return self.raw_object['id']\n",
    "\n",
    "    @rltk.cached_property\n",
    "    def name_string(self):\n",
    "        return self.raw_object['artist_names']\n",
    "    \n",
    "    def artist_bio(self):\n",
    "        return self.raw_object['full_bios']\n",
    "    \n",
    "    @rltk.cached_property\n",
    "    def name_tokens(self):\n",
    "        return list(tokenizer.tokenize(self.name_string))"
   ]
  },
  {
   "cell_type": "code",
   "execution_count": 36,
   "metadata": {},
   "outputs": [],
   "source": [
    "artsy_data_path = '../Scrape/Artsy/Data/ArtsyArtist.csv'\n",
    "ww_data_path = '../Scrape/Widewalls/data/CleanedWidewallsData.csv'\n",
    "\n",
    "ds1 = rltk.Dataset(rltk.CSVReader(artsy_data_path),record_class=ArtsyRecord)\n",
    "ds2 = rltk.Dataset(rltk.CSVReader(ww_data_path),record_class=WidewallsRecord)"
   ]
  },
  {
   "cell_type": "code",
   "execution_count": 59,
   "metadata": {},
   "outputs": [
    {
     "name": "stdout",
     "output_type": "stream",
     "text": [
      "Column names are: Artsy, Widewalls, label\n",
      "Processed 100 lines.\n"
     ]
    },
    {
     "data": {
      "text/plain": [
       "<rltk.evaluation.trial.Trial at 0x28ae40280>"
      ]
     },
     "execution_count": 59,
     "metadata": {},
     "output_type": "execute_result"
    }
   ],
   "source": [
    "dev_set_file = 'Linking_Truth.csv'\n",
    "dev = []\n",
    "with open(dev_set_file, encoding='utf-8', errors=\"replace\") as csv_file:\n",
    "    csv_reader = csv.reader(csv_file, delimiter=',')\n",
    "    line_count = 0\n",
    "    for row in csv_reader:\n",
    "        if row[-1] != \"label\":\n",
    "            row = row[:-1]+[int(row[-1])]\n",
    "        row = row[1:]\n",
    "        if len(row) <= 1:\n",
    "            continue\n",
    "        if line_count == 0:\n",
    "            columns = row\n",
    "            line_count += 1\n",
    "        else:\n",
    "            dev.append(row)\n",
    "            \n",
    "    print(f'Column names are: {\", \".join(columns)}')\n",
    "    print(f'Processed {len(dev)} lines.')\n",
    "#print(dev)\n",
    "gt = rltk.GroundTruth()\n",
    "for row in dev:    \n",
    "    r1 = ds1.get_record(row[0])\n",
    "    r2  = ds2.get_record(row[1])\n",
    "    if row[-1] == 1:\n",
    "        gt.add_positive(r1.raw_object['id'], r2.raw_object['id'])\n",
    "        #print(r1.raw_object['id'])\n",
    "    else:\n",
    "        gt.add_negative(r1.raw_object['id'], r2.raw_object['id'])\n",
    "\n",
    "rltk.Trial(gt)"
   ]
  },
  {
   "cell_type": "code",
   "execution_count": 60,
   "metadata": {},
   "outputs": [],
   "source": [
    "#no blocking needed for these dataset\n",
    "#linking function\n",
    "def same_name(r1, r2):\n",
    "    if r1.name_string == r2.name_string:\n",
    "        return True\n",
    "    return False\n",
    "\n",
    "def jaccard(r1, r2):\n",
    "    list1 = list(r1.name_tokens)\n",
    "    list2 = list(r2.name_tokens)\n",
    "    intersection = len(list(set(list1).intersection(list2)))\n",
    "    union = (len(list1) + len(list2)) - intersection\n",
    "    return float(intersection) / union"
   ]
  },
  {
   "cell_type": "code",
   "execution_count": 61,
   "metadata": {},
   "outputs": [],
   "source": [
    "def rule_based_method(r1, r2):\n",
    "    if same_name(r1,r2):\n",
    "        return True,1\n",
    "    else:\n",
    "        if jaccard(r1, r2) >= 0.8:\n",
    "            return True, jaccard(r1, r2)\n",
    "    return False,1-jaccard(r1, r2)"
   ]
  },
  {
   "cell_type": "code",
   "execution_count": 45,
   "metadata": {},
   "outputs": [],
   "source": [
    "with open('data/artist_predictions.csv', mode='w') as file:\n",
    "    candidate_pairs = rltk.get_record_pairs(ds1, ds2)\n",
    "    writer = csv.writer(file, delimiter=',', quotechar='\"', quoting=csv.QUOTE_MINIMAL)\n",
    "    writer.writerow([\"Artsy\",\"Widewalls\",\"artist_name\"])\n",
    "    for r1, r2 in candidate_pairs:\n",
    "        result, confidence = rule_based_method(r1, r2)\n",
    "        if result  == True:\n",
    "            writer.writerow([r1.id,r2.id,r1.name_string])"
   ]
  },
  {
   "cell_type": "code",
   "execution_count": 62,
   "metadata": {},
   "outputs": [
    {
     "name": "stdout",
     "output_type": "stream",
     "text": [
      " True\n",
      " True\n",
      " True\n",
      " True\n",
      " True\n",
      " True\n",
      " True\n",
      " True\n",
      " True\n",
      " True\n",
      " True\n",
      " True\n",
      " True\n",
      " True\n",
      " True\n",
      " True\n",
      " True\n",
      " True\n",
      " True\n",
      " True\n",
      " True\n",
      " True\n",
      " True\n",
      " True\n",
      " True\n",
      " True\n",
      " True\n",
      " True\n",
      " True\n",
      " True\n",
      " True\n",
      " True\n",
      " True\n",
      " True\n",
      " True\n",
      " True\n",
      " True\n",
      " True\n",
      " True\n",
      " True\n",
      " True\n",
      " True\n",
      " True\n",
      " True\n",
      " True\n",
      " True\n",
      " True\n",
      " True\n",
      " True\n",
      " True\n",
      " False\n",
      " False\n",
      " False\n",
      " False\n",
      " False\n",
      " False\n",
      " False\n",
      " False\n",
      " False\n",
      " False\n",
      " False\n",
      " False\n",
      " False\n",
      " False\n",
      " False\n",
      " False\n",
      " False\n",
      " False\n",
      " False\n",
      " False\n",
      " False\n",
      " False\n",
      " False\n",
      " False\n",
      " False\n",
      " False\n",
      " False\n",
      " False\n",
      " False\n",
      " False\n",
      " False\n",
      " False\n",
      " False\n",
      " False\n",
      " False\n",
      " False\n",
      " False\n",
      " False\n",
      " False\n",
      " False\n",
      " False\n",
      " False\n",
      " False\n",
      " False\n",
      " False\n",
      " False\n",
      " False\n",
      " False\n",
      " False\n",
      " False\n"
     ]
    }
   ],
   "source": [
    "trial = rltk.Trial(gt)\n",
    "candidate_pairs = rltk.get_record_pairs(ds1,ds2, ground_truth=gt)\n",
    "for r1, r2 in candidate_pairs:\n",
    "    result, confidence = rule_based_method(r1, r2)\n",
    "    print(r1.name,result)\n",
    "    trial.add_result(r1, r2, result)"
   ]
  },
  {
   "cell_type": "code",
   "execution_count": 63,
   "metadata": {},
   "outputs": [
    {
     "name": "stdout",
     "output_type": "stream",
     "text": [
      "Trial statistics based on Ground-Truth from development set data:\n",
      "tp: 1.000000 [50]\n",
      "fp: 0.000000 [0]\n",
      "tn: 1.000000 [50]\n",
      "fn: 0.000000 [0]\n"
     ]
    }
   ],
   "source": [
    "trial.evaluate()\n",
    "print('Trial statistics based on Ground-Truth from development set data:')\n",
    "print(f'tp: {trial.true_positives:.06f} [{len(trial.true_positives_list)}]')\n",
    "print(f'fp: {trial.false_positives:.06f} [{len(trial.false_positives_list)}]')\n",
    "print(f'tn: {trial.true_negatives:.06f} [{len(trial.true_negatives_list)}]')\n",
    "print(f'fn: {trial.false_negatives:.06f} [{len(trial.false_negatives_list)}]')"
   ]
  },
  {
   "cell_type": "code",
   "execution_count": 64,
   "metadata": {},
   "outputs": [
    {
     "data": {
      "text/plain": [
       "1.0"
      ]
     },
     "execution_count": 64,
     "metadata": {},
     "output_type": "execute_result"
    }
   ],
   "source": [
    "trial.f_measure"
   ]
  }
 ],
 "metadata": {
  "kernelspec": {
   "display_name": "Python 3",
   "language": "python",
   "name": "python3"
  },
  "language_info": {
   "codemirror_mode": {
    "name": "ipython",
    "version": 3
   },
   "file_extension": ".py",
   "mimetype": "text/x-python",
   "name": "python",
   "nbconvert_exporter": "python",
   "pygments_lexer": "ipython3",
   "version": "3.10.6 | packaged by conda-forge | (main, Aug 22 2022, 20:41:22) [Clang 13.0.1 ]"
  },
  "vscode": {
   "interpreter": {
    "hash": "61f7b514d9cc7cfd4c2bdeba98a7dc160e7ee2f2c538f44fe6a7beea60d43dd4"
   }
  }
 },
 "nbformat": 4,
 "nbformat_minor": 2
}
