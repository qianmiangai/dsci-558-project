{
 "cells": [
  {
   "cell_type": "code",
   "execution_count": 1,
   "metadata": {},
   "outputs": [],
   "source": [
    "import rltk\n",
    "import csv\n",
    "tokenizer = rltk.tokenizer.crf_tokenizer.crf_tokenizer.CrfTokenizer()"
   ]
  },
  {
   "cell_type": "code",
   "execution_count": 6,
   "metadata": {},
   "outputs": [],
   "source": [
    "class ArtsyRecord(rltk.Record):\n",
    "    def __init__(self, raw_object):\n",
    "        super().__init__(raw_object)\n",
    "        self.name = ''\n",
    "\n",
    "    @rltk.cached_property\n",
    "    def id(self):\n",
    "        return self.raw_object['id']\n",
    "\n",
    "    @rltk.cached_property\n",
    "    def name_string(self):\n",
    "        return self.raw_object['artist_name']\n",
    "\n",
    "    @rltk.cached_property\n",
    "    def name_tokens(self):\n",
    "        return list(tokenizer.tokenize(self.name_string))\n",
    "\n",
    "class WidewallsRecord(rltk.Record):\n",
    "    def __init__(self, raw_object):\n",
    "        super().__init__(raw_object)\n",
    "        self.name = ''\n",
    "\n",
    "    @rltk.cached_property\n",
    "    def id(self):\n",
    "        return self.raw_object['id']\n",
    "\n",
    "    @rltk.cached_property\n",
    "    def name_string(self):\n",
    "        return self.raw_object['artist_names']\n",
    "    \n",
    "    @rltk.cached_property\n",
    "    def name_tokens(self):\n",
    "        return list(tokenizer.tokenize(self.name_string))"
   ]
  },
  {
   "cell_type": "code",
   "execution_count": 11,
   "metadata": {},
   "outputs": [],
   "source": [
    "artsy_data_path = '../Scrape/Artsy/Data/ArtsyArtist.csv'\n",
    "ww_data_path = '../Scrape/Widewalls/data/CleanedWidewallsData.csv'\n",
    "\n",
    "ds1 = rltk.Dataset(rltk.CSVReader(artsy_data_path),record_class=ArtsyRecord)\n",
    "ds2 = rltk.Dataset(rltk.CSVReader(ww_data_path),record_class=WidewallsRecord)"
   ]
  },
  {
   "cell_type": "code",
   "execution_count": 12,
   "metadata": {},
   "outputs": [],
   "source": [
    "#no blocking needed for these dataset\n",
    "#linking function\n",
    "def same_name(r1, r2):\n",
    "    if r1.name_string == r2.name_string:\n",
    "        return True\n",
    "    return False\n",
    "\n",
    "def jaccard(r1, r2):\n",
    "    list1 = list(r1.name_tokens)\n",
    "    list2 = list(r2.name_tokens)\n",
    "    intersection = len(list(set(list1).intersection(list2)))\n",
    "    union = (len(list1) + len(list2)) - intersection\n",
    "    return float(intersection) / union"
   ]
  },
  {
   "cell_type": "code",
   "execution_count": 13,
   "metadata": {},
   "outputs": [],
   "source": [
    "def rule_based_method(r1, r2):\n",
    "    if same_name(r1,r2):\n",
    "        return True,1\n",
    "    else:\n",
    "        if jaccard(r1, r2) >= 0.8:\n",
    "            return True, jaccard(r1, r2)\n",
    "    return False,1-jaccard(r1, r2)"
   ]
  },
  {
   "cell_type": "code",
   "execution_count": null,
   "metadata": {},
   "outputs": [],
   "source": []
  },
  {
   "cell_type": "code",
   "execution_count": 10,
   "metadata": {},
   "outputs": [],
   "source": [
    "with open('artist_predictions.csv', mode='w') as file:\n",
    "    candidate_pairs = rltk.get_record_pairs(ds1, ds2)\n",
    "    writer = csv.writer(file, delimiter=',', quotechar='\"', quoting=csv.QUOTE_MINIMAL)\n",
    "    writer.writerow([\"Artsy\",\"Widewalls\"])\n",
    "    for r1, r2 in candidate_pairs:\n",
    "        result, confidence = rule_based_method(r1, r2)\n",
    "        if result  == True:\n",
    "            writer.writerow([r1.id,r2.id,confidence])"
   ]
  }
 ],
 "metadata": {
  "kernelspec": {
   "display_name": "Python 3.10.6 ('2022F')",
   "language": "python",
   "name": "python3"
  },
  "language_info": {
   "codemirror_mode": {
    "name": "ipython",
    "version": 3
   },
   "file_extension": ".py",
   "mimetype": "text/x-python",
   "name": "python",
   "nbconvert_exporter": "python",
   "pygments_lexer": "ipython3",
   "version": "3.10.6"
  },
  "orig_nbformat": 4,
  "vscode": {
   "interpreter": {
    "hash": "61f7b514d9cc7cfd4c2bdeba98a7dc160e7ee2f2c538f44fe6a7beea60d43dd4"
   }
  }
 },
 "nbformat": 4,
 "nbformat_minor": 2
}
